{
 "cells": [
  {
   "cell_type": "markdown",
   "metadata": {},
   "source": [
    "#### Esercizio 2 della lezione del 8/10/2020\n",
    "Creare un array es1 di valori casuali interi (randint) di dimensione 3x5, con valore massimo (incluso) uguale a 8\n"
   ]
  },
  {
   "cell_type": "code",
   "execution_count": 42,
   "metadata": {},
   "outputs": [
    {
     "name": "stdout",
     "output_type": "stream",
     "text": [
      "Matrice di partenza:\n",
      " [[5 0 3 3 7]\n",
      " [3 5 2 4 7]\n",
      " [6 8 8 1 6]]\n",
      "\n",
      "SELEZIONO I VALORI UGUALI A TRE: \n",
      "\n",
      "Uso la la posizione come indice:  3 3 3\n",
      "\n",
      "Uso a forma negativa dalla fine dell’array:  3 3 3\n",
      "\n",
      "SELEZIONE ELEMENTI\n",
      "\n",
      "Primo elemento della seconda riga:  3\n",
      "\n",
      "Quinto elemento della prima riga:  7\n",
      "\n",
      "Secondo elemento della seconda colonna:  5\n",
      "\n",
      "Il quarto elemento della terza colonna non esiste\n",
      "\n",
      "Sommare 10 all’elemento es1[0,0]:  15\n",
      "\n",
      "Sottrarre 5 all’elemento es1[3,2]:  3\n",
      "\n",
      "Sommare l’elemento es1[0,0] all’elemento es1[1,0] e il risultato metterlo in es1[2,0]: 8\n"
     ]
    }
   ],
   "source": [
    "import numpy as np\n",
    "np.random.seed(0)\n",
    "es1=np.random.randint(9,size=(3,5))\n",
    "print(\"Matrice di partenza:\\n\",es1)\n",
    "#Selezionare gli elementi che hanno valore 3 (uso 3 perché nel mio caso è il valore con più occorrenze in es1)\n",
    "#prima utilizzando la posizione come indice\n",
    "#poi usando la forma negativa dalla fine dell’array\n",
    "print(\"\\nSELEZIONO I VALORI UGUALI A TRE: \")\n",
    "print(\"\\nUso la la posizione come indice: \",es1[0,2],es1[0,3],es1[1,0])\n",
    "print(\"\\nUso a forma negativa dalla fine dell’array: \",es1[-3,-3], es1[-3,-2], es1[-2,-5])\n",
    "#Selezionare:il primo elemento della seconda riga,il quinto elemento della prima riga,il secondo elemento della seconda colonna\n",
    "#il quarto elemento della terza colonna\n",
    "print(\"\\nSELEZIONE ELEMENTI\")\n",
    "print(\"\\nPrimo elemento della seconda riga: \",es1[1,0])\n",
    "print(\"\\nQuinto elemento della prima riga: \",es1[0,4])\n",
    "print(\"\\nSecondo elemento della seconda colonna: \",es1[1,1])\n",
    "print(\"\\nIl quarto elemento della terza colonna non esiste\")\n",
    "#Sommare 10 all’elemento es1[0,0],Sottrarre 5 all’elemento es1[2,2]\n",
    "#Sommare l’elemento es1[0,0] all’elemento es1[1,0] e il risultato metterlo in es1[2,0]\n",
    "print(\"\\nSommare 10 all’elemento es1[0,0]: \",es1[0,0]+10)\n",
    "print(\"\\nSottrarre 5 all’elemento es1[3,2]: \",es1[2,2]-5)\n",
    "es1[2,0]=es1[0,0]+es1[1,0]\n",
    "print(\"\\nSommare l’elemento es1[0,0] all’elemento es1[1,0] e il risultato metterlo in es1[2,0]:\",es1[2,0])"
   ]
  },
  {
   "cell_type": "code",
   "execution_count": null,
   "metadata": {},
   "outputs": [],
   "source": []
  }
 ],
 "metadata": {
  "kernelspec": {
   "display_name": "Python 3",
   "language": "python",
   "name": "python3"
  },
  "language_info": {
   "codemirror_mode": {
    "name": "ipython",
    "version": 3
   },
   "file_extension": ".py",
   "mimetype": "text/x-python",
   "name": "python",
   "nbconvert_exporter": "python",
   "pygments_lexer": "ipython3",
   "version": "3.8.3"
  }
 },
 "nbformat": 4,
 "nbformat_minor": 4
}
