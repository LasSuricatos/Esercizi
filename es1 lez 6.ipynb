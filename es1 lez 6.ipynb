{
 "cells": [
  {
   "cell_type": "code",
   "execution_count": 3,
   "metadata": {},
   "outputs": [
    {
     "data": {
      "text/plain": [
       "array([ 5,  6,  7,  8,  9, 10, 11, 12, 13, 14])"
      ]
     },
     "execution_count": 3,
     "metadata": {},
     "output_type": "execute_result"
    }
   ],
   "source": [
    "#Esercizio 1 08/10/2020\n",
    "#Cambiare l’array creandone uno sempre di 10 valori ma che parta da 5 fino a 15\n",
    "import numpy as np\n",
    "es1=np.arange(5,15)\n",
    "es1"
   ]
  },
  {
   "cell_type": "code",
   "execution_count": 17,
   "metadata": {},
   "outputs": [
    {
     "name": "stdout",
     "output_type": "stream",
     "text": [
      "seleziono i primi sei valori: [ 5  6  7  8  9 10]\n"
     ]
    }
   ],
   "source": [
    "#selezionare i primi sei valori \n",
    "print(\"seleziono i primi sei valori:\",es1 [:6])"
   ]
  },
  {
   "cell_type": "code",
   "execution_count": 16,
   "metadata": {},
   "outputs": [
    {
     "name": "stdout",
     "output_type": "stream",
     "text": [
      "seleziono elementi dopo l'indice tre: [ 9 10 11 12 13 14]\n"
     ]
    }
   ],
   "source": [
    "#selezionare elementi dopo l'indice tre\n",
    "print(\"seleziono elementi dopo l'indice tre:\",es1[4:])"
   ]
  },
  {
   "cell_type": "code",
   "execution_count": 15,
   "metadata": {},
   "outputs": [
    {
     "name": "stdout",
     "output_type": "stream",
     "text": [
      "seleziono elementi dopo il terzo elemento: [ 8  9 10 11 12 13 14]\n"
     ]
    }
   ],
   "source": [
    "#selezionare elementi dopo il terzo elemento \n",
    "print(\"seleziono elementi dopo il terzo elemento:\",es1[3:])"
   ]
  },
  {
   "cell_type": "code",
   "execution_count": 14,
   "metadata": {},
   "outputs": [
    {
     "name": "stdout",
     "output_type": "stream",
     "text": [
      "seleziono subarray: [ 8  9 10 11 12]\n"
     ]
    }
   ],
   "source": [
    "#selezionare subarray con valori 8,9,10,11,12\n",
    "print(\"seleziono subarray:\",es1[3:8])"
   ]
  },
  {
   "cell_type": "code",
   "execution_count": 13,
   "metadata": {},
   "outputs": [
    {
     "name": "stdout",
     "output_type": "stream",
     "text": [
      "seleziono un elemento ogni tre a partire dal primo: [ 5  8 11 14]\n"
     ]
    }
   ],
   "source": [
    "#selezionare un elemento ogni tre a partire dal primo \n",
    "print(\"seleziono un elemento ogni tre a partire dal primo:\",es1[::3])"
   ]
  },
  {
   "cell_type": "code",
   "execution_count": 12,
   "metadata": {},
   "outputs": [
    {
     "name": "stdout",
     "output_type": "stream",
     "text": [
      "selezionare un elemento ogni tre a partire dal terzo: [ 7 10 13]\n"
     ]
    }
   ],
   "source": [
    "#selezionare un elemento ogni tre a partire dal terzo\n",
    "print(\"selezionare un elemento ogni tre a partire dal terzo:\", es1[2::3])"
   ]
  },
  {
   "cell_type": "code",
   "execution_count": null,
   "metadata": {},
   "outputs": [],
   "source": []
  }
 ],
 "metadata": {
  "kernelspec": {
   "display_name": "Python 3",
   "language": "python",
   "name": "python3"
  },
  "language_info": {
   "codemirror_mode": {
    "name": "ipython",
    "version": 3
   },
   "file_extension": ".py",
   "mimetype": "text/x-python",
   "name": "python",
   "nbconvert_exporter": "python",
   "pygments_lexer": "ipython3",
   "version": "3.8.3"
  }
 },
 "nbformat": 4,
 "nbformat_minor": 4
}
