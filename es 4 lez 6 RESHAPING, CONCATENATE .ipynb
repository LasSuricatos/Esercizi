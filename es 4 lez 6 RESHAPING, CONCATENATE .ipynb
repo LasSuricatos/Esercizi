{
 "cells": [
  {
   "cell_type": "code",
   "execution_count": 1,
   "metadata": {},
   "outputs": [],
   "source": [
    "import numpy as np"
   ]
  },
  {
   "cell_type": "markdown",
   "metadata": {},
   "source": [
    "### ESERCIZIO RESHAPE, CONCATENATE E SPLITTING"
   ]
  },
  {
   "cell_type": "code",
   "execution_count": 6,
   "metadata": {},
   "outputs": [
    {
     "data": {
      "text/plain": [
       "array([ 1,  2,  3,  4,  5,  6,  7,  8,  9, 10, 11, 12, 13, 14, 15, 16, 17,\n",
       "       18, 19, 20, 21, 22, 23, 24, 25, 26, 27, 28, 29, 30, 31, 32, 33, 34,\n",
       "       35, 36])"
      ]
     },
     "execution_count": 6,
     "metadata": {},
     "output_type": "execute_result"
    }
   ],
   "source": [
    "#punto 1 \n",
    "#Creare una lista es4 di 36 valori interi crescenti \n",
    "#partendo da 1\n",
    "es4=np.arange(1,37)\n",
    "es4"
   ]
  },
  {
   "cell_type": "code",
   "execution_count": 20,
   "metadata": {},
   "outputs": [
    {
     "name": "stdout",
     "output_type": "stream",
     "text": [
      "array di partenza:\n",
      " [[ 1  2  3  4  5  6]\n",
      " [ 7  8  9 10 11 12]\n",
      " [13 14 15 16 17 18]\n",
      " [19 20 21 22 23 24]\n",
      " [25 26 27 28 29 30]\n",
      " [31 32 33 34 35 36]]\n"
     ]
    }
   ],
   "source": [
    "#punto 2 \n",
    "#Trasformarlo in un array di dimensione 6x6\n",
    "es4=es4.reshape(6,6)\n",
    "print(\"array di partenza:\\n\",es4)"
   ]
  },
  {
   "cell_type": "code",
   "execution_count": 19,
   "metadata": {},
   "outputs": [
    {
     "name": "stdout",
     "output_type": "stream",
     "text": [
      "sub1:\n",
      " [[1 2]\n",
      " [7 8]]\n",
      "sub2:\n",
      " [[13 14]\n",
      " [19 20]]\n",
      "sub3:\n",
      " [[25 26]\n",
      " [31 32]]\n"
     ]
    }
   ],
   "source": [
    "#punto 3 \n",
    "#Estrarre tre subarray di dimensione 2x2 dalle \n",
    "#prime due colonne (sub1, sub2, sub3)\n",
    "sub1=es4[:2,:2]\n",
    "print(\"sub1:\\n\", sub1)\n",
    "sub2=es4[2:4,:2]\n",
    "print(\"sub2:\\n\", sub2)\n",
    "sub3=es4[4:,:2]\n",
    "print(\"sub3:\\n\", sub3)"
   ]
  },
  {
   "cell_type": "code",
   "execution_count": 36,
   "metadata": {},
   "outputs": [
    {
     "name": "stdout",
     "output_type": "stream",
     "text": [
      "concateno con axis=0:\n",
      " [[ 1  2]\n",
      " [ 7  8]\n",
      " [13 14]\n",
      " [19 20]\n",
      " [25 26]\n",
      " [31 32]]\n",
      "concateno con axis=1:\n",
      " [[ 1  2 13 14 25 26]\n",
      " [ 7  8 19 20 31 32]]\n"
     ]
    }
   ],
   "source": [
    "#punto 4\n",
    "#Concatenarli (usare concatenate) \n",
    "#prima usando axis=0 poi con axis=1\n",
    "a=np.concatenate([sub1, sub2, sub3], axis=0)\n",
    "print(\"concateno con axis=0:\\n\", a)\n",
    "b=np.concatenate([sub1, sub2, sub3], axis=1)\n",
    "print(\"concateno con axis=1:\\n\", b)"
   ]
  },
  {
   "cell_type": "code",
   "execution_count": 39,
   "metadata": {},
   "outputs": [
    {
     "name": "stdout",
     "output_type": "stream",
     "text": [
      "sub4:\n",
      " [[ 1  2  3  4  5  6]\n",
      " [ 7  8  9 10 11 12]]\n"
     ]
    }
   ],
   "source": [
    "#punto5\n",
    "#Da es4 estrarre un subarray formato dalle prime \n",
    "#due righe (sub4)\n",
    "sub4=es4[:2,:]\n",
    "print(\"sub4:\\n\", sub4)"
   ]
  },
  {
   "cell_type": "code",
   "execution_count": 45,
   "metadata": {},
   "outputs": [
    {
     "name": "stdout",
     "output_type": "stream",
     "text": [
      "unisco sub1 e sub4:\n",
      " [[ 1  2  1  2  3  4  5  6]\n",
      " [ 7  8  7  8  9 10 11 12]]\n"
     ]
    }
   ],
   "source": [
    "#punto 6\n",
    "#Concatenare sub1 a sub4. Usate hstack o vstack?\n",
    "print(\"unisco sub1 e sub4:\\n\", np.hstack([sub1,sub4]))\n",
    "#ho usato hstack perchè li ho uniti orizzontalmente"
   ]
  },
  {
   "cell_type": "code",
   "execution_count": 75,
   "metadata": {},
   "outputs": [
    {
     "name": "stdout",
     "output_type": "stream",
     "text": [
      "sub4_trasformato:\n",
      " [[ 1  2]\n",
      " [ 3  4]\n",
      " [ 5  6]\n",
      " [ 7  8]\n",
      " [ 9 10]\n",
      " [11 12]]\n"
     ]
    }
   ],
   "source": [
    "#punto 7\n",
    "#Trasformate sub4 da 2x6 a 6x2 \n",
    "#(le 2 righe diventano 2 colonne)\n",
    "sub4_trasformato=sub4.reshape(6,2)\n",
    "print(\"sub4_trasformato:\\n\", sub4_trasformato)"
   ]
  },
  {
   "cell_type": "code",
   "execution_count": 55,
   "metadata": {},
   "outputs": [
    {
     "name": "stdout",
     "output_type": "stream",
     "text": [
      "sub5:\n",
      " [[ 1  2]\n",
      " [ 7  8]\n",
      " [13 14]\n",
      " [19 20]\n",
      " [25 26]\n",
      " [31 32]]\n"
     ]
    }
   ],
   "source": [
    "#punto 8\n",
    "#Concatenate sub1, sub2 e sub3 a formare un \n",
    "#nuovo array 6x2 (sub5)\n",
    "sub5=np.concatenate([sub1, sub2, sub3])\n",
    "print(\"sub5:\\n\", sub5)"
   ]
  },
  {
   "cell_type": "code",
   "execution_count": 74,
   "metadata": {},
   "outputs": [
    {
     "name": "stdout",
     "output_type": "stream",
     "text": [
      "concateno orizzontalmente:\n",
      " [[ 1  2  1  2]\n",
      " [ 3  4  7  8]\n",
      " [ 5  6 13 14]\n",
      " [ 7  8 19 20]\n",
      " [ 9 10 25 26]\n",
      " [11 12 31 32]]\n",
      "concateno verticalmente:\n",
      " [[ 1  2]\n",
      " [ 3  4]\n",
      " [ 5  6]\n",
      " [ 7  8]\n",
      " [ 9 10]\n",
      " [11 12]\n",
      " [ 1  2]\n",
      " [ 7  8]\n",
      " [13 14]\n",
      " [19 20]\n",
      " [25 26]\n",
      " [31 32]]\n"
     ]
    }
   ],
   "source": [
    "#punto 9\n",
    "#Concatenate sub4 (trasformato) con sub5. hstack o vstack?\n",
    "c=np.hstack([sub4_trasformato,sub5])\n",
    "print(\"concateno orizzontalmente:\\n\", c)\n",
    "d=np.vstack([sub4_trasformato,sub5])\n",
    "print(\"concateno verticalmente:\\n\", d)\n",
    "#posso concatenare sia orizzontalmente sia verticalmente\n",
    "#in quanto i due subarray hanno lo stesso numero di righe\n",
    "#e colonne"
   ]
  },
  {
   "cell_type": "code",
   "execution_count": null,
   "metadata": {},
   "outputs": [],
   "source": []
  },
  {
   "cell_type": "code",
   "execution_count": null,
   "metadata": {},
   "outputs": [],
   "source": []
  },
  {
   "cell_type": "code",
   "execution_count": null,
   "metadata": {},
   "outputs": [],
   "source": []
  }
 ],
 "metadata": {
  "kernelspec": {
   "display_name": "Python 3",
   "language": "python",
   "name": "python3"
  },
  "language_info": {
   "codemirror_mode": {
    "name": "ipython",
    "version": 3
   },
   "file_extension": ".py",
   "mimetype": "text/x-python",
   "name": "python",
   "nbconvert_exporter": "python",
   "pygments_lexer": "ipython3",
   "version": "3.8.3"
  }
 },
 "nbformat": 4,
 "nbformat_minor": 4
}
