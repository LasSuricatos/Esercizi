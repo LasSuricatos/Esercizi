{
 "cells": [
  {
   "cell_type": "markdown",
   "metadata": {},
   "source": [
    "## ESERCIZIO 3 LEZIONI 7/8\n",
    "#### PUNTO 1 e 2"
   ]
  },
  {
   "cell_type": "code",
   "execution_count": 3,
   "metadata": {},
   "outputs": [],
   "source": [
    "import numpy as np\n",
    "import pandas as pd"
   ]
  },
  {
   "cell_type": "markdown",
   "metadata": {},
   "source": [
    "#### PUNTI 1 e 2"
   ]
  },
  {
   "cell_type": "code",
   "execution_count": 49,
   "metadata": {},
   "outputs": [
    {
     "data": {
      "text/html": [
       "<div>\n",
       "<style scoped>\n",
       "    .dataframe tbody tr th:only-of-type {\n",
       "        vertical-align: middle;\n",
       "    }\n",
       "\n",
       "    .dataframe tbody tr th {\n",
       "        vertical-align: top;\n",
       "    }\n",
       "\n",
       "    .dataframe thead th {\n",
       "        text-align: right;\n",
       "    }\n",
       "</style>\n",
       "<table border=\"1\" class=\"dataframe\">\n",
       "  <thead>\n",
       "    <tr style=\"text-align: right;\">\n",
       "      <th></th>\n",
       "      <th>_id</th>\n",
       "      <th>Tipo-Zone</th>\n",
       "      <th>Id Sensore</th>\n",
       "      <th>Data-Ora</th>\n",
       "      <th>Valore Cumulato</th>\n",
       "    </tr>\n",
       "  </thead>\n",
       "  <tbody>\n",
       "    <tr>\n",
       "      <th>0</th>\n",
       "      <td>1</td>\n",
       "      <td>Brera</td>\n",
       "      <td>19373</td>\n",
       "      <td>2018-01-01T00:00:00</td>\n",
       "      <td>0.2</td>\n",
       "    </tr>\n",
       "    <tr>\n",
       "      <th>1</th>\n",
       "      <td>2</td>\n",
       "      <td>Juvara</td>\n",
       "      <td>5908</td>\n",
       "      <td>2018-01-01T00:00:00</td>\n",
       "      <td>0.0</td>\n",
       "    </tr>\n",
       "    <tr>\n",
       "      <th>2</th>\n",
       "      <td>3</td>\n",
       "      <td>Lambrate</td>\n",
       "      <td>2006</td>\n",
       "      <td>2018-01-01T00:00:00</td>\n",
       "      <td>0.0</td>\n",
       "    </tr>\n",
       "    <tr>\n",
       "      <th>3</th>\n",
       "      <td>4</td>\n",
       "      <td>Zavattari</td>\n",
       "      <td>9341</td>\n",
       "      <td>2018-01-01T00:00:00</td>\n",
       "      <td>0.4</td>\n",
       "    </tr>\n",
       "    <tr>\n",
       "      <th>4</th>\n",
       "      <td>5</td>\n",
       "      <td>Rosellini</td>\n",
       "      <td>14121</td>\n",
       "      <td>2018-01-01T00:00:00</td>\n",
       "      <td>0.0</td>\n",
       "    </tr>\n",
       "    <tr>\n",
       "      <th>...</th>\n",
       "      <td>...</td>\n",
       "      <td>...</td>\n",
       "      <td>...</td>\n",
       "      <td>...</td>\n",
       "      <td>...</td>\n",
       "    </tr>\n",
       "    <tr>\n",
       "      <th>43680</th>\n",
       "      <td>43681</td>\n",
       "      <td>Brera</td>\n",
       "      <td>19373</td>\n",
       "      <td>2018-12-31T00:00:00</td>\n",
       "      <td>0.0</td>\n",
       "    </tr>\n",
       "    <tr>\n",
       "      <th>43681</th>\n",
       "      <td>43682</td>\n",
       "      <td>Juvara</td>\n",
       "      <td>5908</td>\n",
       "      <td>2018-12-31T00:00:00</td>\n",
       "      <td>0.0</td>\n",
       "    </tr>\n",
       "    <tr>\n",
       "      <th>43682</th>\n",
       "      <td>43683</td>\n",
       "      <td>Lambrate</td>\n",
       "      <td>2006</td>\n",
       "      <td>2018-12-31T00:00:00</td>\n",
       "      <td>0.0</td>\n",
       "    </tr>\n",
       "    <tr>\n",
       "      <th>43683</th>\n",
       "      <td>43684</td>\n",
       "      <td>Zavattari</td>\n",
       "      <td>9341</td>\n",
       "      <td>2018-12-31T00:00:00</td>\n",
       "      <td>0.0</td>\n",
       "    </tr>\n",
       "    <tr>\n",
       "      <th>43684</th>\n",
       "      <td>43685</td>\n",
       "      <td>Rosellini</td>\n",
       "      <td>14121</td>\n",
       "      <td>2018-12-31T00:00:00</td>\n",
       "      <td>0.0</td>\n",
       "    </tr>\n",
       "  </tbody>\n",
       "</table>\n",
       "<p>43685 rows × 5 columns</p>\n",
       "</div>"
      ],
      "text/plain": [
       "         _id  Tipo-Zone  Id Sensore             Data-Ora  Valore Cumulato\n",
       "0          1      Brera       19373  2018-01-01T00:00:00              0.2\n",
       "1          2     Juvara        5908  2018-01-01T00:00:00              0.0\n",
       "2          3   Lambrate        2006  2018-01-01T00:00:00              0.0\n",
       "3          4  Zavattari        9341  2018-01-01T00:00:00              0.4\n",
       "4          5  Rosellini       14121  2018-01-01T00:00:00              0.0\n",
       "...      ...        ...         ...                  ...              ...\n",
       "43680  43681      Brera       19373  2018-12-31T00:00:00              0.0\n",
       "43681  43682     Juvara        5908  2018-12-31T00:00:00              0.0\n",
       "43682  43683   Lambrate        2006  2018-12-31T00:00:00              0.0\n",
       "43683  43684  Zavattari        9341  2018-12-31T00:00:00              0.0\n",
       "43684  43685  Rosellini       14121  2018-12-31T00:00:00              0.0\n",
       "\n",
       "[43685 rows x 5 columns]"
      ]
     },
     "execution_count": 49,
     "metadata": {},
     "output_type": "execute_result"
    }
   ],
   "source": [
    "precip=pd.read_csv(r\"C:\\Users\\Alice\\Desktop\\CSV\\3ad26cd0-6d57-4bf7-873c-17361415a78f.csv\")\n",
    "#print(\"dataframe precipitazioni\",precip)\n",
    "precip"
   ]
  },
  {
   "cell_type": "code",
   "execution_count": 14,
   "metadata": {},
   "outputs": [
    {
     "data": {
      "text/html": [
       "<div>\n",
       "<style scoped>\n",
       "    .dataframe tbody tr th:only-of-type {\n",
       "        vertical-align: middle;\n",
       "    }\n",
       "\n",
       "    .dataframe tbody tr th {\n",
       "        vertical-align: top;\n",
       "    }\n",
       "\n",
       "    .dataframe thead th {\n",
       "        text-align: right;\n",
       "    }\n",
       "</style>\n",
       "<table border=\"1\" class=\"dataframe\">\n",
       "  <thead>\n",
       "    <tr style=\"text-align: right;\">\n",
       "      <th></th>\n",
       "      <th>id</th>\n",
       "      <th>zona</th>\n",
       "      <th>sensore</th>\n",
       "      <th>data_ora</th>\n",
       "      <th>val_cum</th>\n",
       "    </tr>\n",
       "  </thead>\n",
       "  <tbody>\n",
       "    <tr>\n",
       "      <th>0</th>\n",
       "      <td>1</td>\n",
       "      <td>Brera</td>\n",
       "      <td>19373</td>\n",
       "      <td>2018-01-01T00:00:00</td>\n",
       "      <td>0.2</td>\n",
       "    </tr>\n",
       "    <tr>\n",
       "      <th>1</th>\n",
       "      <td>2</td>\n",
       "      <td>Juvara</td>\n",
       "      <td>5908</td>\n",
       "      <td>2018-01-01T00:00:00</td>\n",
       "      <td>0.0</td>\n",
       "    </tr>\n",
       "    <tr>\n",
       "      <th>2</th>\n",
       "      <td>3</td>\n",
       "      <td>Lambrate</td>\n",
       "      <td>2006</td>\n",
       "      <td>2018-01-01T00:00:00</td>\n",
       "      <td>0.0</td>\n",
       "    </tr>\n",
       "    <tr>\n",
       "      <th>3</th>\n",
       "      <td>4</td>\n",
       "      <td>Zavattari</td>\n",
       "      <td>9341</td>\n",
       "      <td>2018-01-01T00:00:00</td>\n",
       "      <td>0.4</td>\n",
       "    </tr>\n",
       "    <tr>\n",
       "      <th>4</th>\n",
       "      <td>5</td>\n",
       "      <td>Rosellini</td>\n",
       "      <td>14121</td>\n",
       "      <td>2018-01-01T00:00:00</td>\n",
       "      <td>0.0</td>\n",
       "    </tr>\n",
       "    <tr>\n",
       "      <th>...</th>\n",
       "      <td>...</td>\n",
       "      <td>...</td>\n",
       "      <td>...</td>\n",
       "      <td>...</td>\n",
       "      <td>...</td>\n",
       "    </tr>\n",
       "    <tr>\n",
       "      <th>43680</th>\n",
       "      <td>43681</td>\n",
       "      <td>Brera</td>\n",
       "      <td>19373</td>\n",
       "      <td>2018-12-31T00:00:00</td>\n",
       "      <td>0.0</td>\n",
       "    </tr>\n",
       "    <tr>\n",
       "      <th>43681</th>\n",
       "      <td>43682</td>\n",
       "      <td>Juvara</td>\n",
       "      <td>5908</td>\n",
       "      <td>2018-12-31T00:00:00</td>\n",
       "      <td>0.0</td>\n",
       "    </tr>\n",
       "    <tr>\n",
       "      <th>43682</th>\n",
       "      <td>43683</td>\n",
       "      <td>Lambrate</td>\n",
       "      <td>2006</td>\n",
       "      <td>2018-12-31T00:00:00</td>\n",
       "      <td>0.0</td>\n",
       "    </tr>\n",
       "    <tr>\n",
       "      <th>43683</th>\n",
       "      <td>43684</td>\n",
       "      <td>Zavattari</td>\n",
       "      <td>9341</td>\n",
       "      <td>2018-12-31T00:00:00</td>\n",
       "      <td>0.0</td>\n",
       "    </tr>\n",
       "    <tr>\n",
       "      <th>43684</th>\n",
       "      <td>43685</td>\n",
       "      <td>Rosellini</td>\n",
       "      <td>14121</td>\n",
       "      <td>2018-12-31T00:00:00</td>\n",
       "      <td>0.0</td>\n",
       "    </tr>\n",
       "  </tbody>\n",
       "</table>\n",
       "<p>43685 rows × 5 columns</p>\n",
       "</div>"
      ],
      "text/plain": [
       "          id       zona  sensore             data_ora  val_cum\n",
       "0          1      Brera    19373  2018-01-01T00:00:00      0.2\n",
       "1          2     Juvara     5908  2018-01-01T00:00:00      0.0\n",
       "2          3   Lambrate     2006  2018-01-01T00:00:00      0.0\n",
       "3          4  Zavattari     9341  2018-01-01T00:00:00      0.4\n",
       "4          5  Rosellini    14121  2018-01-01T00:00:00      0.0\n",
       "...      ...        ...      ...                  ...      ...\n",
       "43680  43681      Brera    19373  2018-12-31T00:00:00      0.0\n",
       "43681  43682     Juvara     5908  2018-12-31T00:00:00      0.0\n",
       "43682  43683   Lambrate     2006  2018-12-31T00:00:00      0.0\n",
       "43683  43684  Zavattari     9341  2018-12-31T00:00:00      0.0\n",
       "43684  43685  Rosellini    14121  2018-12-31T00:00:00      0.0\n",
       "\n",
       "[43685 rows x 5 columns]"
      ]
     },
     "execution_count": 14,
     "metadata": {},
     "output_type": "execute_result"
    }
   ],
   "source": [
    "precip2=precip\n",
    "precip2\n",
    "precip2=precip2.rename(columns={\"_id\":\"id\",\"Tipo-Zone\":\"zona\", \"Id Sensore\":\"sensore\", \"Data-Ora\":\"data_ora\", \"Valore Cumulato\":\"val_cum\"})\n",
    "precip2"
   ]
  },
  {
   "cell_type": "code",
   "execution_count": 80,
   "metadata": {},
   "outputs": [
    {
     "name": "stdout",
     "output_type": "stream",
     "text": [
      "MASCHERE BOOLEANE DEI GIORNI DI PIOGGIA:\n",
      " [0         True\n",
      "1        False\n",
      "2        False\n",
      "3         True\n",
      "4        False\n",
      "         ...  \n",
      "43680    False\n",
      "43681    False\n",
      "43682    False\n",
      "43683    False\n",
      "43684    False\n",
      "Name: val_cum, Length: 43685, dtype: bool]\n"
     ]
    }
   ],
   "source": [
    "#precip2.loc\n",
    "mask_pioggia=[precip2[\"val_cum\"]>0]\n",
    "print(\"MASCHERE BOOLEANE DEI GIORNI DI PIOGGIA:\\n\", mask_pioggia)"
   ]
  },
  {
   "cell_type": "markdown",
   "metadata": {},
   "source": [
    "#### PUNTO 3"
   ]
  },
  {
   "cell_type": "code",
   "execution_count": 34,
   "metadata": {},
   "outputs": [
    {
     "name": "stdout",
     "output_type": "stream",
     "text": [
      "STATISTICHE RISPETTO A TUTTO IL DATAFRAME:\n",
      "\n",
      "minimo di precipitazioni nell'anno 2018: 0.0\n",
      "massimo di precipitazioni nell'anno 2018: 28.8\n",
      "media di precipitazioni nell'anno 2018: 0.10222748155366658\n",
      "mediana di precipitazioni nell'anno 2018: nan\n"
     ]
    }
   ],
   "source": [
    "#Ora calcoliamo alcune statistiche (le stesse dell’esempio\n",
    "#del libro: media, mediana, max, min\n",
    "print(\"STATISTICHE RISPETTO A TUTTO IL DATAFRAME:\\n\")\n",
    "print(\"minimo di precipitazioni nell'anno 2018:\", np.min(precip2[\"val_cum\"]))\n",
    "print(\"massimo di precipitazioni nell'anno 2018:\", np.max(precip2[\"val_cum\"]))\n",
    "print(\"media di precipitazioni nell'anno 2018:\", np.mean(precip2[\"val_cum\"]))\n",
    "print(\"mediana di precipitazioni nell'anno 2018:\", np.median(precip2[\"val_cum\"]))"
   ]
  },
  {
   "cell_type": "code",
   "execution_count": 35,
   "metadata": {},
   "outputs": [
    {
     "name": "stdout",
     "output_type": "stream",
     "text": [
      "STATISTICHE RISPETTO SOLO AI GIORNI PIOVOSI:\n",
      "\n",
      "minimo di precipitazioni nei giorni di pioggia nell'anno 2018: 0.2\n",
      "massimo di precipitazioni nei giorni di pioggia nell'anno 2018: 28.8\n",
      "media di precipitazioni nei giorni di pioggia nell'anno 2018: 1.2523592950539857\n",
      "mediana di precipitazioni nei giorni di pioggia nell'anno 2018: 0.6\n"
     ]
    }
   ],
   "source": [
    "gg_pioggia=precip2.loc[precip2[\"val_cum\"]>0]\n",
    "gg_pioggia\n",
    "print(\"STATISTICHE RISPETTO SOLO AI GIORNI PIOVOSI:\\n\")\n",
    "print(\"minimo di precipitazioni nei giorni di pioggia nell'anno 2018:\", np.min(gg_pioggia[\"val_cum\"]))\n",
    "print(\"massimo di precipitazioni nei giorni di pioggia nell'anno 2018:\", np.max(gg_pioggia[\"val_cum\"]))\n",
    "print(\"media di precipitazioni nei giorni di pioggia nell'anno 2018:\", np.mean(gg_pioggia[\"val_cum\"]))\n",
    "print(\"mediana di precipitazioni nei giorni di pioggia nell'anno 2018:\", np.median(gg_pioggia[\"val_cum\"]))"
   ]
  },
  {
   "cell_type": "markdown",
   "metadata": {},
   "source": [
    "#### PUNTO 4"
   ]
  },
  {
   "cell_type": "code",
   "execution_count": 69,
   "metadata": {},
   "outputs": [],
   "source": [
    "# nan significa che il valore non è un numero, in questo caso particolare potremmo ipotizzare che il sensore non funzionava o che comunque non si è riusciti a rilevare le precipitazioni\n",
    "# la mediana risulta nan perchè probabilmente il valore centrale della distribuzione non è stato rilevato\n",
    "# la media è la somma di tutti i valori di una distribuzione diviso il numero dei valori, mentre la mediana sarebbe ilvalore centrale della distribuzione\n",
    "# la media cambia perchè tra i valori considerati non ci sono quelli non piovosi\n",
    "# perchè qui il valore centrale della distribuzione è il valore 0.6"
   ]
  },
  {
   "cell_type": "markdown",
   "metadata": {},
   "source": [
    "#### PUNTO 5"
   ]
  },
  {
   "cell_type": "code",
   "execution_count": 81,
   "metadata": {},
   "outputs": [
    {
     "name": "stdout",
     "output_type": "stream",
     "text": [
      "è uscito TRUE quindi ci sono valori nan: True\n"
     ]
    }
   ],
   "source": [
    "#ci sono vaori nan nella colonna val_cum? (se esce TRUE ci sono)\n",
    "precip2[\"val_cum\"].isnull().any() # oppure va bene anche: precip2[\"val_cum\"].isna().values.any() \n",
    "print(\"è uscito TRUE quindi ci sono valori nan:\", precip2[\"val_cum\"].isnull().any())"
   ]
  },
  {
   "cell_type": "code",
   "execution_count": 87,
   "metadata": {},
   "outputs": [
    {
     "name": "stdout",
     "output_type": "stream",
     "text": [
      "TROVO TUTTE LE RIGHE CON NaN:\n",
      "           id       zona  sensore             data_ora  val_cum\n",
      "43        44  Zavattari     9341  2018-01-01T08:00:00      NaN\n",
      "153      154  Zavattari     9341  2018-02-01T06:00:00      NaN\n",
      "248      249  Zavattari     9341  2018-03-01T01:00:00      NaN\n",
      "368      369  Zavattari     9341  2018-04-01T01:00:00      NaN\n",
      "488      489  Zavattari     9341  2018-05-01T01:00:00      NaN\n",
      "...      ...        ...      ...                  ...      ...\n",
      "42966  42967     Juvara     5908  2018-12-25T01:00:00      NaN\n",
      "42971  42972     Juvara     5908  2018-12-25T02:00:00      NaN\n",
      "42976  42977     Juvara     5908  2018-12-25T03:00:00      NaN\n",
      "42981  42982     Juvara     5908  2018-12-25T04:00:00      NaN\n",
      "42986  42987     Juvara     5908  2018-12-25T05:00:00      NaN\n",
      "\n",
      "[587 rows x 5 columns]\n"
     ]
    }
   ],
   "source": [
    "#Trovare tutte le righe del dataframe precip che contengono un nan, in any metto axis=1 che sarebbe l'asse orizzontale, \n",
    "#e dato che io devo trovare le righe lo uso. se in any non metto nulla probabilmente me le cerca in tutto il dataframe\n",
    "precip_nan= precip2[precip2.isnull().values.any(axis=1)]\n",
    "print(\"TROVO TUTTE LE RIGHE CON NaN:\\n\", precip_nan)"
   ]
  },
  {
   "cell_type": "code",
   "execution_count": 84,
   "metadata": {},
   "outputs": [
    {
     "name": "stdout",
     "output_type": "stream",
     "text": [
      "TABELLA SENZA NaN:\n",
      "           id       zona  sensore             data_ora  val_cum\n",
      "0          1      Brera    19373  2018-01-01T00:00:00      0.2\n",
      "1          2     Juvara     5908  2018-01-01T00:00:00      0.0\n",
      "2          3   Lambrate     2006  2018-01-01T00:00:00      0.0\n",
      "3          4  Zavattari     9341  2018-01-01T00:00:00      0.4\n",
      "4          5  Rosellini    14121  2018-01-01T00:00:00      0.0\n",
      "...      ...        ...      ...                  ...      ...\n",
      "43680  43681      Brera    19373  2018-12-31T00:00:00      0.0\n",
      "43681  43682     Juvara     5908  2018-12-31T00:00:00      0.0\n",
      "43682  43683   Lambrate     2006  2018-12-31T00:00:00      0.0\n",
      "43683  43684  Zavattari     9341  2018-12-31T00:00:00      0.0\n",
      "43684  43685  Rosellini    14121  2018-12-31T00:00:00      0.0\n",
      "\n",
      "[43098 rows x 5 columns]\n"
     ]
    }
   ],
   "source": [
    "#Rimuovere da precip tutte le righe che hanno nan nella colonna valore e\n",
    "#salvare il risultato come nuovo dataframe df1 (quindi ora avrò due\n",
    "#dataframe: precip2 che contiene anche i nan; df1 che non contiene i nan)\n",
    "df1=precip2.dropna()\n",
    "print(\"TABELLA SENZA NaN:\\n\", df1)"
   ]
  },
  {
   "cell_type": "code",
   "execution_count": 85,
   "metadata": {},
   "outputs": [
    {
     "name": "stdout",
     "output_type": "stream",
     "text": [
      "MEDIANA DEL NUOVO DATAFRAME df1: 0.0\n"
     ]
    }
   ],
   "source": [
    "#Calcolare di nuovo la mediana sul dataframe df1, che ha giorni di pioggia e non piovosi ma non ha più i nan\n",
    "print(\"MEDIANA DEL NUOVO DATAFRAME df1:\", np.median(df1[\"val_cum\"]))"
   ]
  },
  {
   "cell_type": "markdown",
   "metadata": {},
   "source": [
    "#### PUNTO 6"
   ]
  },
  {
   "cell_type": "code",
   "execution_count": 71,
   "metadata": {},
   "outputs": [
    {
     "name": "stdout",
     "output_type": "stream",
     "text": [
      "Quanti valori nan ci sono? 587\n"
     ]
    }
   ],
   "source": [
    "# quanti sono i valori nan?\n",
    "precip2[\"val_cum\"].isnull().sum() \n",
    "print(\"Quanti valori nan ci sono?\", precip2[\"val_cum\"].isnull().sum())"
   ]
  },
  {
   "cell_type": "code",
   "execution_count": 88,
   "metadata": {},
   "outputs": [
    {
     "name": "stdout",
     "output_type": "stream",
     "text": [
      "PER CIASCUN VALORE DELLA PRECIPITAZIONE, VEDERE IL NUMERO DEI GIORNI:\n",
      "             id   zona  sensore  data_ora\n",
      "val_cum                                 \n",
      "0.0      39580  39580    39580     39580\n",
      "0.2       1075   1075     1075      1075\n",
      "0.4        480    480      480       480\n",
      "0.6        326    326      326       326\n",
      "0.8        291    291      291       291\n",
      "...        ...    ...      ...       ...\n",
      "18.4         1      1        1         1\n",
      "20.6         1      1        1         1\n",
      "24.0         1      1        1         1\n",
      "26.2         1      1        1         1\n",
      "28.8         1      1        1         1\n",
      "\n",
      "[65 rows x 4 columns]\n"
     ]
    }
   ],
   "source": [
    "c=precip2.groupby(precip2[\"val_cum\"]).count()\n",
    "print(\"PER CIASCUN VALORE DELLA PRECIPITAZIONE, VEDERE IL NUMERO DEI GIORNI:\\n\", c)"
   ]
  },
  {
   "cell_type": "code",
   "execution_count": null,
   "metadata": {},
   "outputs": [],
   "source": []
  }
 ],
 "metadata": {
  "kernelspec": {
   "display_name": "Python 3",
   "language": "python",
   "name": "python3"
  },
  "language_info": {
   "codemirror_mode": {
    "name": "ipython",
    "version": 3
   },
   "file_extension": ".py",
   "mimetype": "text/x-python",
   "name": "python",
   "nbconvert_exporter": "python",
   "pygments_lexer": "ipython3",
   "version": "3.8.3"
  }
 },
 "nbformat": 4,
 "nbformat_minor": 4
}
