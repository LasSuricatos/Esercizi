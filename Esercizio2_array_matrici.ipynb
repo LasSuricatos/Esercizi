{
 "cells": [
  {
   "cell_type": "code",
   "execution_count": 13,
   "metadata": {},
   "outputs": [
    {
     "name": "stdout",
     "output_type": "stream",
     "text": [
      "il vettore è:  [0 0 0 0 0 0 0 0 0 0 0 0 0 0 0 0 0 0 0 0 0 0 0 0 0 0 0 0 0 0 0 0 0 0 0 0 0\n",
      " 0 0 0 0 0 0 0 0 0 0 0 0 0]\n",
      "la matrice è:  [[1. 1. 1. 1. 1.]\n",
      " [1. 1. 1. 1. 1.]]\n",
      "la seconda matrice è:  [[12.34 12.34 12.34]\n",
      " [12.34 12.34 12.34]\n",
      " [12.34 12.34 12.34]]\n",
      "la lista è  [ 6 10 14 18 22 26 30 34 38 42]\n",
      "la lista è:  [  0.  25.  50.  75. 100.]\n",
      "la terza matrice è:  [[0.65279032 0.63505887 0.99529957 0.58185033 0.41436859 0.4746975\n",
      "  0.6235101  0.33800761 0.67475232 0.31720174]]\n",
      "la quarta matrice è:  [[ 1.50944508  1.06777513 -0.68658948  0.01487332 -0.3756659  -0.03822364\n",
      "   0.36797447 -0.0447237  -0.30237513 -2.2244036 ]\n",
      " [ 0.72400636  0.35900276  1.07612104  0.19214083  0.85292596  0.01835718\n",
      "   0.42830357  0.99627783 -0.49114966  0.71267817]]\n"
     ]
    }
   ],
   "source": [
    "import numpy as np\n",
    "# creare lista di 50 elementi\n",
    "v1=np.zeros(50, dtype=int)\n",
    "print(\"il vettore è: \",v1)\n",
    "# creare matrice 2x5, di numeri interi\n",
    "m1=np.ones((2, 5), dtype=float)\n",
    "print(\"la matrice è: \", m1)\n",
    "#creare matrice 3x3 con valori 12.34\n",
    "m2=np.full((3, 3), 12.34)\n",
    "print(\"la seconda matrice è: \", m2)\n",
    "# creare lista di 10 elementi, che inizia da 6 e incrementa di 4 \n",
    "l1=np.arange(6, 44, 4)\n",
    "print(\"la lista è \",l1)\n",
    "# creare lista di elementi tra 0 e 100 distanziati di 5 \n",
    "l2=np.linspace(0, 100, 5)\n",
    "print(\"la lista è: \",l2)\n",
    "# creare matrice 1x10 di valori casuali tra 0 e 1\n",
    "m3=np.random.random((1, 10))\n",
    "print(\"la terza matrice è: \",m3)\n",
    "# creare matrice 2x10 di valori con distribuzione gaussiana con media 0 e deviazione standard 1\n",
    "m4=np.random.normal(0, 1, (2, 10))\n",
    "print(\"la quarta matrice è: \",m4)\n"
   ]
  },
  {
   "cell_type": "code",
   "execution_count": null,
   "metadata": {},
   "outputs": [],
   "source": []
  }
 ],
 "metadata": {
  "kernelspec": {
   "display_name": "Python 3",
   "language": "python",
   "name": "python3"
  },
  "language_info": {
   "codemirror_mode": {
    "name": "ipython",
    "version": 3
   },
   "file_extension": ".py",
   "mimetype": "text/x-python",
   "name": "python",
   "nbconvert_exporter": "python",
   "pygments_lexer": "ipython3",
   "version": "3.8.3"
  }
 },
 "nbformat": 4,
 "nbformat_minor": 4
}
