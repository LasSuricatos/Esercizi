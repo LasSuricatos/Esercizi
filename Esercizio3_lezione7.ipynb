{
 "cells": [
  {
   "cell_type": "markdown",
   "metadata": {},
   "source": [
    "##### Esercizio 3 lezione del 15/10/2020\n"
   ]
  },
  {
   "cell_type": "code",
   "execution_count": 1,
   "metadata": {},
   "outputs": [
    {
     "data": {
      "text/html": [
       "<div>\n",
       "<style scoped>\n",
       "    .dataframe tbody tr th:only-of-type {\n",
       "        vertical-align: middle;\n",
       "    }\n",
       "\n",
       "    .dataframe tbody tr th {\n",
       "        vertical-align: top;\n",
       "    }\n",
       "\n",
       "    .dataframe thead th {\n",
       "        text-align: right;\n",
       "    }\n",
       "</style>\n",
       "<table border=\"1\" class=\"dataframe\">\n",
       "  <thead>\n",
       "    <tr style=\"text-align: right;\">\n",
       "      <th></th>\n",
       "      <th>Tipo-Zone</th>\n",
       "      <th>Id Sensore</th>\n",
       "      <th>Data-Ora</th>\n",
       "      <th>Valore Cumulato</th>\n",
       "    </tr>\n",
       "  </thead>\n",
       "  <tbody>\n",
       "    <tr>\n",
       "      <th>0</th>\n",
       "      <td>Brera</td>\n",
       "      <td>19373</td>\n",
       "      <td>2018-01-01T00:00:00</td>\n",
       "      <td>0.2</td>\n",
       "    </tr>\n",
       "    <tr>\n",
       "      <th>1</th>\n",
       "      <td>Juvara</td>\n",
       "      <td>5908</td>\n",
       "      <td>2018-01-01T00:00:00</td>\n",
       "      <td>0.0</td>\n",
       "    </tr>\n",
       "    <tr>\n",
       "      <th>2</th>\n",
       "      <td>Lambrate</td>\n",
       "      <td>2006</td>\n",
       "      <td>2018-01-01T00:00:00</td>\n",
       "      <td>0.0</td>\n",
       "    </tr>\n",
       "    <tr>\n",
       "      <th>3</th>\n",
       "      <td>Zavattari</td>\n",
       "      <td>9341</td>\n",
       "      <td>2018-01-01T00:00:00</td>\n",
       "      <td>0.4</td>\n",
       "    </tr>\n",
       "    <tr>\n",
       "      <th>4</th>\n",
       "      <td>Rosellini</td>\n",
       "      <td>14121</td>\n",
       "      <td>2018-01-01T00:00:00</td>\n",
       "      <td>0.0</td>\n",
       "    </tr>\n",
       "    <tr>\n",
       "      <th>...</th>\n",
       "      <td>...</td>\n",
       "      <td>...</td>\n",
       "      <td>...</td>\n",
       "      <td>...</td>\n",
       "    </tr>\n",
       "    <tr>\n",
       "      <th>43680</th>\n",
       "      <td>Brera</td>\n",
       "      <td>19373</td>\n",
       "      <td>2018-12-31T00:00:00</td>\n",
       "      <td>0.0</td>\n",
       "    </tr>\n",
       "    <tr>\n",
       "      <th>43681</th>\n",
       "      <td>Juvara</td>\n",
       "      <td>5908</td>\n",
       "      <td>2018-12-31T00:00:00</td>\n",
       "      <td>0.0</td>\n",
       "    </tr>\n",
       "    <tr>\n",
       "      <th>43682</th>\n",
       "      <td>Lambrate</td>\n",
       "      <td>2006</td>\n",
       "      <td>2018-12-31T00:00:00</td>\n",
       "      <td>0.0</td>\n",
       "    </tr>\n",
       "    <tr>\n",
       "      <th>43683</th>\n",
       "      <td>Zavattari</td>\n",
       "      <td>9341</td>\n",
       "      <td>2018-12-31T00:00:00</td>\n",
       "      <td>0.0</td>\n",
       "    </tr>\n",
       "    <tr>\n",
       "      <th>43684</th>\n",
       "      <td>Rosellini</td>\n",
       "      <td>14121</td>\n",
       "      <td>2018-12-31T00:00:00</td>\n",
       "      <td>0.0</td>\n",
       "    </tr>\n",
       "  </tbody>\n",
       "</table>\n",
       "<p>43685 rows × 4 columns</p>\n",
       "</div>"
      ],
      "text/plain": [
       "       Tipo-Zone  Id Sensore             Data-Ora  Valore Cumulato\n",
       "0          Brera       19373  2018-01-01T00:00:00              0.2\n",
       "1         Juvara        5908  2018-01-01T00:00:00              0.0\n",
       "2       Lambrate        2006  2018-01-01T00:00:00              0.0\n",
       "3      Zavattari        9341  2018-01-01T00:00:00              0.4\n",
       "4      Rosellini       14121  2018-01-01T00:00:00              0.0\n",
       "...          ...         ...                  ...              ...\n",
       "43680      Brera       19373  2018-12-31T00:00:00              0.0\n",
       "43681     Juvara        5908  2018-12-31T00:00:00              0.0\n",
       "43682   Lambrate        2006  2018-12-31T00:00:00              0.0\n",
       "43683  Zavattari        9341  2018-12-31T00:00:00              0.0\n",
       "43684  Rosellini       14121  2018-12-31T00:00:00              0.0\n",
       "\n",
       "[43685 rows x 4 columns]"
      ]
     },
     "execution_count": 1,
     "metadata": {},
     "output_type": "execute_result"
    }
   ],
   "source": [
    "import numpy as np\n",
    "import pandas as pd\n",
    "precip =pd.read_csv(r\"C:\\Users\\Laura\\Desktop\\PythonDataScienceHandbook-master\\notebooks\\data\\precipitazioni.csv\")\n",
    "precip.drop('_id', inplace=True, axis=1)\n",
    "precip"
   ]
  },
  {
   "cell_type": "code",
   "execution_count": 2,
   "metadata": {},
   "outputs": [],
   "source": [
    "#Rinominare le colonne del dataframe per avere nomi più semplici da usare (ad esempio senza spazi, più corti) \n",
    "precip = precip.rename(columns={'Tipo-Zone': 'zone', 'Id Sensore': 'id', 'Data-Ora': 'data', 'Valore Cumulato': 'valore'})"
   ]
  },
  {
   "cell_type": "code",
   "execution_count": 3,
   "metadata": {},
   "outputs": [
    {
     "data": {
      "text/plain": [
       "0         True\n",
       "1        False\n",
       "2        False\n",
       "3         True\n",
       "4        False\n",
       "         ...  \n",
       "43680    False\n",
       "43681    False\n",
       "43682    False\n",
       "43683    False\n",
       "43684    False\n",
       "Name: valore, Length: 43685, dtype: bool"
      ]
     },
     "execution_count": 3,
     "metadata": {},
     "output_type": "execute_result"
    }
   ],
   "source": [
    "#Creare una mask di valori booleani rispetto alla condizione se un certo giorno è stato piovoso oppure no \n",
    "# per distinguere un giorno piovoso da uno non basta guardare se l'elemento valore è maggiore di 0\n",
    "mask_rain= precip['valore'] > 0.0\n",
    "mask_rain"
   ]
  },
  {
   "cell_type": "code",
   "execution_count": 28,
   "metadata": {},
   "outputs": [
    {
     "name": "stdout",
     "output_type": "stream",
     "text": [
      "STATISTICHE RISPETTO A TUTTO IL DATAFRAME\n",
      "Media delle precipitazione del 2018:  0.10222748155366658\n",
      "Mediana delle precipitazione del 2018:  nan\n",
      "Massimo delle precipitazione del 2018:  28.8\n",
      "Minimo delle precipitazione del 2018:  0.0\n"
     ]
    }
   ],
   "source": [
    "#Ora calcoliamo alcune statistiche (le stesse dell’esempio del libro: media, mediana, max, min)\n",
    "#rispetto a tutto il data frame precip\n",
    "print(\"STATISTICHE RISPETTO A TUTTO IL DATAFRAME\")\n",
    "print(\"Media delle precipitazione del 2018: \", np.mean(precip['valore']))\n",
    "print(\"Mediana delle precipitazione del 2018: \", np.median(precip['valore']))\n",
    "print(\"Massimo delle precipitazione del 2018: \", np.max(precip['valore']))\n",
    "print(\"Minimo delle precipitazione del 2018: \", np.min(precip['valore']))\n",
    "# Nan significa not a number quindi probabilmente un valore mancante\n",
    "#la mediana risulta in questo modo perchè prbabilmente l'elemento alla posizione centrale è un nan"
   ]
  },
  {
   "cell_type": "code",
   "execution_count": 30,
   "metadata": {},
   "outputs": [
    {
     "name": "stdout",
     "output_type": "stream",
     "text": [
      "STATISTICHE RISPETTO AI GIORNI DI PIOGGIA\n",
      "Media delle precipitazione dei giorni di pioggia del 2018:  1.2523592950539857\n",
      "Mediana delle precipitazione dei giorni di pioggia del 2018:  0.6\n",
      "Massimo delle precipitazione dei giorni di pioggia del 2018:  28.8\n",
      "Minimo delle precipitazione dei giorni di pioggia del 2018:  0.2\n"
     ]
    }
   ],
   "source": [
    "#solo rispetto ai giorni di pioggia\n",
    "rain= precip.loc[(precip['valore'] >0) ]\n",
    "print(\"STATISTICHE RISPETTO AI GIORNI DI PIOGGIA\")\n",
    "print(\"Media delle precipitazione dei giorni di pioggia del 2018: \", np.mean(rain['valore']))\n",
    "print(\"Mediana delle precipitazione dei giorni di pioggia del 2018: \", np.median(rain['valore']))\n",
    "print(\"Massimo delle precipitazione dei giorni di pioggia del 2018: \",np.max( rain['valore']))\n",
    "print(\"Minimo delle precipitazione dei giorni di pioggia del 2018: \", np.min(rain['valore']))"
   ]
  },
  {
   "cell_type": "code",
   "execution_count": 58,
   "metadata": {},
   "outputs": [
    {
     "name": "stdout",
     "output_type": "stream",
     "text": [
      "Verificare se nella colonna valore ci sono dei nan, se il risultato è true allora ci sono altrimenti non ci sono : True\n"
     ]
    }
   ],
   "source": [
    "#Trovare una funzione ed eseguire il corrispondente comando che ci permetta di verificare se\n",
    "#nella colonna valore ci sono dei nan\n",
    "print(\"Verificare se nella colonna valore ci sono dei nan, se il risultato è true allora ci sono altrimenti non ci sono :\"\n",
    "      ,precip['valore'].isna().values.any())"
   ]
  },
  {
   "cell_type": "code",
   "execution_count": 65,
   "metadata": {},
   "outputs": [
    {
     "name": "stdout",
     "output_type": "stream",
     "text": [
      "TROVO LE RIGHE DEL DATAFRAME CHE CONTEGONO DATI NAN \n",
      "\n",
      "            zone    id                 data  valore   rain\n",
      "43     Zavattari  9341  2018-01-01T08:00:00     NaN  False\n",
      "153    Zavattari  9341  2018-02-01T06:00:00     NaN  False\n",
      "248    Zavattari  9341  2018-03-01T01:00:00     NaN  False\n",
      "368    Zavattari  9341  2018-04-01T01:00:00     NaN  False\n",
      "488    Zavattari  9341  2018-05-01T01:00:00     NaN  False\n",
      "...          ...   ...                  ...     ...    ...\n",
      "42966     Juvara  5908  2018-12-25T01:00:00     NaN  False\n",
      "42971     Juvara  5908  2018-12-25T02:00:00     NaN  False\n",
      "42976     Juvara  5908  2018-12-25T03:00:00     NaN  False\n",
      "42981     Juvara  5908  2018-12-25T04:00:00     NaN  False\n",
      "42986     Juvara  5908  2018-12-25T05:00:00     NaN  False\n",
      "\n",
      "[587 rows x 5 columns]\n"
     ]
    }
   ],
   "source": [
    "#Trovare tutte le righe del dataframe precip che contengono un nan\n",
    "print(\"TROVO LE RIGHE DEL DATAFRAME CHE CONTEGONO DATI NAN \\n\")\n",
    "nan_prec = precip[precip.isna().any(axis=1)]\n",
    "print (nan_prec)\n"
   ]
  },
  {
   "cell_type": "code",
   "execution_count": 42,
   "metadata": {},
   "outputs": [
    {
     "name": "stdout",
     "output_type": "stream",
     "text": [
      "\n",
      "Nuovo dataframe senza elementi nan \n",
      "\n"
     ]
    },
    {
     "data": {
      "text/html": [
       "<div>\n",
       "<style scoped>\n",
       "    .dataframe tbody tr th:only-of-type {\n",
       "        vertical-align: middle;\n",
       "    }\n",
       "\n",
       "    .dataframe tbody tr th {\n",
       "        vertical-align: top;\n",
       "    }\n",
       "\n",
       "    .dataframe thead th {\n",
       "        text-align: right;\n",
       "    }\n",
       "</style>\n",
       "<table border=\"1\" class=\"dataframe\">\n",
       "  <thead>\n",
       "    <tr style=\"text-align: right;\">\n",
       "      <th></th>\n",
       "      <th>zone</th>\n",
       "      <th>id</th>\n",
       "      <th>data</th>\n",
       "      <th>valore</th>\n",
       "      <th>rain</th>\n",
       "    </tr>\n",
       "  </thead>\n",
       "  <tbody>\n",
       "    <tr>\n",
       "      <th>0</th>\n",
       "      <td>Brera</td>\n",
       "      <td>19373</td>\n",
       "      <td>2018-01-01T00:00:00</td>\n",
       "      <td>0.2</td>\n",
       "      <td>True</td>\n",
       "    </tr>\n",
       "    <tr>\n",
       "      <th>1</th>\n",
       "      <td>Juvara</td>\n",
       "      <td>5908</td>\n",
       "      <td>2018-01-01T00:00:00</td>\n",
       "      <td>0.0</td>\n",
       "      <td>False</td>\n",
       "    </tr>\n",
       "    <tr>\n",
       "      <th>2</th>\n",
       "      <td>Lambrate</td>\n",
       "      <td>2006</td>\n",
       "      <td>2018-01-01T00:00:00</td>\n",
       "      <td>0.0</td>\n",
       "      <td>False</td>\n",
       "    </tr>\n",
       "    <tr>\n",
       "      <th>3</th>\n",
       "      <td>Zavattari</td>\n",
       "      <td>9341</td>\n",
       "      <td>2018-01-01T00:00:00</td>\n",
       "      <td>0.4</td>\n",
       "      <td>True</td>\n",
       "    </tr>\n",
       "    <tr>\n",
       "      <th>4</th>\n",
       "      <td>Rosellini</td>\n",
       "      <td>14121</td>\n",
       "      <td>2018-01-01T00:00:00</td>\n",
       "      <td>0.0</td>\n",
       "      <td>False</td>\n",
       "    </tr>\n",
       "    <tr>\n",
       "      <th>...</th>\n",
       "      <td>...</td>\n",
       "      <td>...</td>\n",
       "      <td>...</td>\n",
       "      <td>...</td>\n",
       "      <td>...</td>\n",
       "    </tr>\n",
       "    <tr>\n",
       "      <th>43680</th>\n",
       "      <td>Brera</td>\n",
       "      <td>19373</td>\n",
       "      <td>2018-12-31T00:00:00</td>\n",
       "      <td>0.0</td>\n",
       "      <td>False</td>\n",
       "    </tr>\n",
       "    <tr>\n",
       "      <th>43681</th>\n",
       "      <td>Juvara</td>\n",
       "      <td>5908</td>\n",
       "      <td>2018-12-31T00:00:00</td>\n",
       "      <td>0.0</td>\n",
       "      <td>False</td>\n",
       "    </tr>\n",
       "    <tr>\n",
       "      <th>43682</th>\n",
       "      <td>Lambrate</td>\n",
       "      <td>2006</td>\n",
       "      <td>2018-12-31T00:00:00</td>\n",
       "      <td>0.0</td>\n",
       "      <td>False</td>\n",
       "    </tr>\n",
       "    <tr>\n",
       "      <th>43683</th>\n",
       "      <td>Zavattari</td>\n",
       "      <td>9341</td>\n",
       "      <td>2018-12-31T00:00:00</td>\n",
       "      <td>0.0</td>\n",
       "      <td>False</td>\n",
       "    </tr>\n",
       "    <tr>\n",
       "      <th>43684</th>\n",
       "      <td>Rosellini</td>\n",
       "      <td>14121</td>\n",
       "      <td>2018-12-31T00:00:00</td>\n",
       "      <td>0.0</td>\n",
       "      <td>False</td>\n",
       "    </tr>\n",
       "  </tbody>\n",
       "</table>\n",
       "<p>43098 rows × 5 columns</p>\n",
       "</div>"
      ],
      "text/plain": [
       "            zone     id                 data  valore   rain\n",
       "0          Brera  19373  2018-01-01T00:00:00     0.2   True\n",
       "1         Juvara   5908  2018-01-01T00:00:00     0.0  False\n",
       "2       Lambrate   2006  2018-01-01T00:00:00     0.0  False\n",
       "3      Zavattari   9341  2018-01-01T00:00:00     0.4   True\n",
       "4      Rosellini  14121  2018-01-01T00:00:00     0.0  False\n",
       "...          ...    ...                  ...     ...    ...\n",
       "43680      Brera  19373  2018-12-31T00:00:00     0.0  False\n",
       "43681     Juvara   5908  2018-12-31T00:00:00     0.0  False\n",
       "43682   Lambrate   2006  2018-12-31T00:00:00     0.0  False\n",
       "43683  Zavattari   9341  2018-12-31T00:00:00     0.0  False\n",
       "43684  Rosellini  14121  2018-12-31T00:00:00     0.0  False\n",
       "\n",
       "[43098 rows x 5 columns]"
      ]
     },
     "execution_count": 42,
     "metadata": {},
     "output_type": "execute_result"
    }
   ],
   "source": [
    "#Rimuovere da precip tutte le righe che hanno nan nella colonna valore e salvare il risultato come nuovo dataframe df1\n",
    "df1= precip.dropna()\n",
    "print(\"\\nNuovo dataframe senza elementi nan \\n\")\n",
    "df1"
   ]
  },
  {
   "cell_type": "code",
   "execution_count": 43,
   "metadata": {},
   "outputs": [
    {
     "name": "stdout",
     "output_type": "stream",
     "text": [
      "MEDIANA DEL NUOVO DATAFRAME:  0.0\n"
     ]
    }
   ],
   "source": [
    "#Calcolare di nuovo la mediana sul dataframe df1, che ha giorni di pioggia e non piovosi ma non ha più i nan\n",
    "print(\"MEDIANA DEL NUOVO DATAFRAME: \", np.median(df1['valore']))"
   ]
  },
  {
   "cell_type": "code",
   "execution_count": 63,
   "metadata": {},
   "outputs": [
    {
     "name": "stdout",
     "output_type": "stream",
     "text": [
      "\n",
      "TABELLA CON IL NUMERO DEI GIORNI PER OGNI VALORE DI PIOVOSITÀ \n",
      "\n"
     ]
    },
    {
     "data": {
      "text/html": [
       "<div>\n",
       "<style scoped>\n",
       "    .dataframe tbody tr th:only-of-type {\n",
       "        vertical-align: middle;\n",
       "    }\n",
       "\n",
       "    .dataframe tbody tr th {\n",
       "        vertical-align: top;\n",
       "    }\n",
       "\n",
       "    .dataframe thead th {\n",
       "        text-align: right;\n",
       "    }\n",
       "</style>\n",
       "<table border=\"1\" class=\"dataframe\">\n",
       "  <thead>\n",
       "    <tr style=\"text-align: right;\">\n",
       "      <th></th>\n",
       "      <th>zone</th>\n",
       "      <th>id</th>\n",
       "      <th>data</th>\n",
       "      <th>rain</th>\n",
       "    </tr>\n",
       "    <tr>\n",
       "      <th>valore</th>\n",
       "      <th></th>\n",
       "      <th></th>\n",
       "      <th></th>\n",
       "      <th></th>\n",
       "    </tr>\n",
       "  </thead>\n",
       "  <tbody>\n",
       "    <tr>\n",
       "      <th>0.0</th>\n",
       "      <td>39580</td>\n",
       "      <td>39580</td>\n",
       "      <td>39580</td>\n",
       "      <td>39580</td>\n",
       "    </tr>\n",
       "    <tr>\n",
       "      <th>0.2</th>\n",
       "      <td>1075</td>\n",
       "      <td>1075</td>\n",
       "      <td>1075</td>\n",
       "      <td>1075</td>\n",
       "    </tr>\n",
       "    <tr>\n",
       "      <th>0.4</th>\n",
       "      <td>480</td>\n",
       "      <td>480</td>\n",
       "      <td>480</td>\n",
       "      <td>480</td>\n",
       "    </tr>\n",
       "    <tr>\n",
       "      <th>0.6</th>\n",
       "      <td>326</td>\n",
       "      <td>326</td>\n",
       "      <td>326</td>\n",
       "      <td>326</td>\n",
       "    </tr>\n",
       "    <tr>\n",
       "      <th>0.8</th>\n",
       "      <td>291</td>\n",
       "      <td>291</td>\n",
       "      <td>291</td>\n",
       "      <td>291</td>\n",
       "    </tr>\n",
       "    <tr>\n",
       "      <th>...</th>\n",
       "      <td>...</td>\n",
       "      <td>...</td>\n",
       "      <td>...</td>\n",
       "      <td>...</td>\n",
       "    </tr>\n",
       "    <tr>\n",
       "      <th>18.4</th>\n",
       "      <td>1</td>\n",
       "      <td>1</td>\n",
       "      <td>1</td>\n",
       "      <td>1</td>\n",
       "    </tr>\n",
       "    <tr>\n",
       "      <th>20.6</th>\n",
       "      <td>1</td>\n",
       "      <td>1</td>\n",
       "      <td>1</td>\n",
       "      <td>1</td>\n",
       "    </tr>\n",
       "    <tr>\n",
       "      <th>24.0</th>\n",
       "      <td>1</td>\n",
       "      <td>1</td>\n",
       "      <td>1</td>\n",
       "      <td>1</td>\n",
       "    </tr>\n",
       "    <tr>\n",
       "      <th>26.2</th>\n",
       "      <td>1</td>\n",
       "      <td>1</td>\n",
       "      <td>1</td>\n",
       "      <td>1</td>\n",
       "    </tr>\n",
       "    <tr>\n",
       "      <th>28.8</th>\n",
       "      <td>1</td>\n",
       "      <td>1</td>\n",
       "      <td>1</td>\n",
       "      <td>1</td>\n",
       "    </tr>\n",
       "  </tbody>\n",
       "</table>\n",
       "<p>65 rows × 4 columns</p>\n",
       "</div>"
      ],
      "text/plain": [
       "         zone     id   data   rain\n",
       "valore                            \n",
       "0.0     39580  39580  39580  39580\n",
       "0.2      1075   1075   1075   1075\n",
       "0.4       480    480    480    480\n",
       "0.6       326    326    326    326\n",
       "0.8       291    291    291    291\n",
       "...       ...    ...    ...    ...\n",
       "18.4        1      1      1      1\n",
       "20.6        1      1      1      1\n",
       "24.0        1      1      1      1\n",
       "26.2        1      1      1      1\n",
       "28.8        1      1      1      1\n",
       "\n",
       "[65 rows x 4 columns]"
      ]
     },
     "execution_count": 63,
     "metadata": {},
     "output_type": "execute_result"
    }
   ],
   "source": [
    "#quanti giorni hanno avuto piovosità a 0.0, quanti a 0.1, a 0.2 etc. per tutti i valori presenti.\n",
    "#Vogliamo anche sapere quanti giorni hanno nan come valore\n",
    "print(\"\\nTABELLA CON IL NUMERO DEI GIORNI PER OGNI VALORE DI PIOVOSITÀ \\n\")\n",
    "precip.groupby(precip['valore']).count()\n"
   ]
  },
  {
   "cell_type": "code",
   "execution_count": 64,
   "metadata": {},
   "outputs": [
    {
     "name": "stdout",
     "output_type": "stream",
     "text": [
      "\n",
      " NUMERO DI GIORNI CHE HANNO NAN COME VALORE: 587\n"
     ]
    }
   ],
   "source": [
    "print(\"\\n NUMERO DI GIORNI CHE HANNO NAN COME VALORE:\", precip['valore'].isna().values.sum())\n"
   ]
  },
  {
   "cell_type": "code",
   "execution_count": null,
   "metadata": {},
   "outputs": [],
   "source": []
  }
 ],
 "metadata": {
  "kernelspec": {
   "display_name": "Python 3",
   "language": "python",
   "name": "python3"
  },
  "language_info": {
   "codemirror_mode": {
    "name": "ipython",
    "version": 3
   },
   "file_extension": ".py",
   "mimetype": "text/x-python",
   "name": "python",
   "nbconvert_exporter": "python",
   "pygments_lexer": "ipython3",
   "version": "3.8.3"
  }
 },
 "nbformat": 4,
 "nbformat_minor": 4
}
