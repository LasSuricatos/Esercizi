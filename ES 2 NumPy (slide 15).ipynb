{
 "cells": [
  {
   "cell_type": "code",
   "execution_count": 1,
   "metadata": {},
   "outputs": [],
   "source": [
    "import numpy as np\n",
    "np.random.seed(0)  # seed for reproducibility\n",
    "\n",
    "x1 = np.random.randint(10, size=5)  # One-dimensional array\n",
    "x2 = np.random.randint(10, size=(3, 4))  # Two-dimensional array\n",
    "x3 = np.random.randint(10, size=(2, 3, 4))  # Three-dimensional array"
   ]
  },
  {
   "cell_type": "code",
   "execution_count": 2,
   "metadata": {},
   "outputs": [
    {
     "name": "stdout",
     "output_type": "stream",
     "text": [
      "x3 ndim:  3\n",
      "x3 shape: (2, 3, 4)\n",
      "x3 size:  24\n"
     ]
    }
   ],
   "source": [
    "print(\"x3 ndim: \", x3.ndim)\n",
    "print(\"x3 shape:\", x3.shape)\n",
    "print(\"x3 size: \", x3.size)"
   ]
  },
  {
   "cell_type": "code",
   "execution_count": 3,
   "metadata": {},
   "outputs": [
    {
     "name": "stdout",
     "output_type": "stream",
     "text": [
      "dtype: int32\n"
     ]
    }
   ],
   "source": [
    "print(\"dtype:\", x3.dtype)"
   ]
  },
  {
   "cell_type": "code",
   "execution_count": 4,
   "metadata": {},
   "outputs": [
    {
     "name": "stdout",
     "output_type": "stream",
     "text": [
      "itemsize: 4 bytes\n",
      "nbytes: 96 bytes\n"
     ]
    }
   ],
   "source": [
    "print(\"itemsize:\", x3.itemsize, \"bytes\")\n",
    "print(\"nbytes:\", x3.nbytes, \"bytes\")"
   ]
  },
  {
   "cell_type": "code",
   "execution_count": 12,
   "metadata": {
    "scrolled": true
   },
   "outputs": [
    {
     "name": "stdout",
     "output_type": "stream",
     "text": [
      "PARAMETRI ARRAY UNIDIMENSIONALE\n",
      "x1 ndim: 1\n",
      "x1 shape: (5,)\n",
      "x1 size: 5\n",
      "PARAMETRI ARRAY BIDIMNSIONALI\n",
      "x2 ndim:  2\n",
      "x2 shape:  (3, 4)\n",
      "x2 size:  12\n"
     ]
    }
   ],
   "source": [
    "#Visualizzare i parametri ndim, shape e size anche degli array x1 e x2\n",
    "print(\"PARAMETRI ARRAY UNIDIMENSIONALE\")\n",
    "print(\"x1 ndim:\", x1.ndim)\n",
    "print(\"x1 shape:\",x1.shape)\n",
    "print(\"x1 size:\", x1.size)\n",
    "print(\"PARAMETRI ARRAY BIDIMNSIONALI\")\n",
    "print(\"x2 ndim: \", x2.ndim)\n",
    "print(\"x2 shape: \", x2.shape)\n",
    "print(\"x2 size: \", x2.size)"
   ]
  },
  {
   "cell_type": "code",
   "execution_count": 14,
   "metadata": {},
   "outputs": [
    {
     "name": "stdout",
     "output_type": "stream",
     "text": [
      "PARAMETRI ARRAY UNIDIMENSIONALE MODIFICATI\n",
      "x1 ndim: 2\n",
      "x1 shape: (4, 5)\n",
      "x1 size: 20\n"
     ]
    }
   ],
   "source": [
    "#Modificare x1 in modo che ndim sia uguale a\n",
    "#2 e shape sia uguale a (4, 5)\n",
    "print(\"PARAMETRI ARRAY UNIDIMENSIONALE MODIFICATI\")\n",
    "#devo modificare la parte iniziale di X=1\n",
    "x1 = np.random.randint(2, size= (4,5))  # One-dimensional array\n",
    "print(\"x1 ndim:\", x1.ndim)\n",
    "print(\"x1 shape:\",x1.shape)\n",
    "print(\"x1 size:\", x1.size)"
   ]
  },
  {
   "cell_type": "markdown",
   "metadata": {},
   "source": [
    "# Cosa indica il primo parametro di random.randint posto al valore 10?\n",
    "#### il parametro random.randint va a scegliere un numero casuale tra 0 e 10 (escluso)"
   ]
  },
  {
   "cell_type": "code",
   "execution_count": 24,
   "metadata": {},
   "outputs": [
    {
     "name": "stdout",
     "output_type": "stream",
     "text": [
      "x2 MODIFICATO\n",
      "[[35 64 69  0]\n",
      " [50 36 34 48]\n",
      " [ 3 42 77 21]]\n"
     ]
    }
   ],
   "source": [
    "#Cambiare il primo parametro e visualizzare i nuovi valori dell’array\n",
    "print(\"x2 MODIFICATO\")\n",
    "x2 = np.random.randint(80, size=(3, 4))\n",
    "print(x2)"
   ]
  },
  {
   "cell_type": "code",
   "execution_count": 29,
   "metadata": {},
   "outputs": [
    {
     "name": "stdout",
     "output_type": "stream",
     "text": [
      "x1 modificato\n",
      "[41 58 65 36 10 43]\n"
     ]
    }
   ],
   "source": [
    "#Cambiare il primo parametro e visualizzare i nuovi valori dell’array\n",
    "print(\"x1 modificato\")\n",
    "x1 = np.random.randint(80, size=6)\n",
    "print(x1)"
   ]
  },
  {
   "cell_type": "code",
   "execution_count": null,
   "metadata": {},
   "outputs": [],
   "source": []
  }
 ],
 "metadata": {
  "kernelspec": {
   "display_name": "Python 3",
   "language": "python",
   "name": "python3"
  },
  "language_info": {
   "codemirror_mode": {
    "name": "ipython",
    "version": 3
   },
   "file_extension": ".py",
   "mimetype": "text/x-python",
   "name": "python",
   "nbconvert_exporter": "python",
   "pygments_lexer": "ipython3",
   "version": "3.8.3"
  }
 },
 "nbformat": 4,
 "nbformat_minor": 4
}
