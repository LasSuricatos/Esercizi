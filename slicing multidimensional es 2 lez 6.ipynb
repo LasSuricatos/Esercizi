{
 "cells": [
  {
   "cell_type": "code",
   "execution_count": 1,
   "metadata": {},
   "outputs": [],
   "source": [
    "import numpy as np"
   ]
  },
  {
   "cell_type": "markdown",
   "metadata": {},
   "source": [
    "### PARTE 1 con array es2a"
   ]
  },
  {
   "cell_type": "code",
   "execution_count": 18,
   "metadata": {},
   "outputs": [
    {
     "data": {
      "text/plain": [
       "array([[12, 15,  5,  0,  3, 11],\n",
       "       [ 3,  7,  9,  3,  5,  2],\n",
       "       [ 4,  7,  6,  8,  8, 12],\n",
       "       [10,  1,  6,  7,  7, 14]])"
      ]
     },
     "execution_count": 18,
     "metadata": {},
     "output_type": "execute_result"
    }
   ],
   "source": [
    "es2a=np.random.randint(16, size=(4,6))\n",
    "np.random.seed(0)\n",
    "es2a"
   ]
  },
  {
   "cell_type": "code",
   "execution_count": 51,
   "metadata": {},
   "outputs": [
    {
     "name": "stdout",
     "output_type": "stream",
     "text": [
      "prime tre righe, prime tre colonne:\n",
      " [[12 15  5]\n",
      " [ 3  7  9]\n",
      " [ 4  7  6]]\n"
     ]
    }
   ],
   "source": [
    "#punto 1\n",
    "print(\"prime tre righe, prime tre colonne:\\n\", es2a[:3,:3])"
   ]
  },
  {
   "cell_type": "code",
   "execution_count": 24,
   "metadata": {},
   "outputs": [
    {
     "name": "stdout",
     "output_type": "stream",
     "text": [
      "seconda e terza riga, quarta, quinta e sesta colonna:\n",
      " [[ 3  5  2]\n",
      " [ 8  8 12]]\n"
     ]
    }
   ],
   "source": [
    "#punto 2\n",
    "print(\"seconda e terza riga, quarta, quinta e sesta colonna:\\n\", es2a[1:3,3:])"
   ]
  },
  {
   "cell_type": "code",
   "execution_count": 27,
   "metadata": {},
   "outputs": [
    {
     "name": "stdout",
     "output_type": "stream",
     "text": [
      "elementi dopo il terzo elemento:\n",
      " [ 6  8  8 12]\n"
     ]
    }
   ],
   "source": [
    "#punto 3\n",
    "print(\"elementi dopo il terzo elemento:\\n\", es2a[2,2:])"
   ]
  },
  {
   "cell_type": "code",
   "execution_count": 50,
   "metadata": {},
   "outputs": [
    {
     "name": "stdout",
     "output_type": "stream",
     "text": [
      "invertire l’ordine delle sole righe:\n",
      " [[10  1  6  7  7 14]\n",
      " [ 4  7  6  8  8 12]\n",
      " [ 3  7  9  3  5  2]\n",
      " [12 15  5  0  3 11]]\n",
      "invertire l'ordine delle sole colonne:\n",
      " [[11  3  0  5 15 12]\n",
      " [ 2  5  3  9  7  3]\n",
      " [12  8  8  6  7  4]\n",
      " [14  7  7  6  1 10]]\n",
      "invertire sia righe sia colonne:\n",
      " [[14  7  7  6  1 10]\n",
      " [12  8  8  6  7  4]\n",
      " [ 2  5  3  9  7  3]\n",
      " [11  3  0  5 15 12]]\n"
     ]
    }
   ],
   "source": [
    "#punto 4\n",
    "print(\"invertire l’ordine delle sole righe:\\n\", es2a[::-1])\n",
    "print(\"invertire l'ordine delle sole colonne:\\n\", es2a[:, ::-1])\n",
    "print(\"invertire sia righe sia colonne:\\n\", es2a[::-1, ::-1])\n"
   ]
  },
  {
   "cell_type": "markdown",
   "metadata": {},
   "source": [
    "### PARTE 2 con array es2b"
   ]
  },
  {
   "cell_type": "code",
   "execution_count": 69,
   "metadata": {},
   "outputs": [
    {
     "data": {
      "text/plain": [
       "array([[[12, 15, 21,  0,  3],\n",
       "        [27,  3,  7,  9, 19],\n",
       "        [21, 18,  4, 23,  6],\n",
       "        [24, 24, 12, 26,  1],\n",
       "        [ 6,  7, 23, 14, 24]],\n",
       "\n",
       "       [[17,  5, 25, 13,  8],\n",
       "        [ 9, 20, 19, 16, 19],\n",
       "        [ 5, 30, 15, 15,  0],\n",
       "        [18,  3, 24, 17, 19],\n",
       "        [29, 19, 19, 14,  7]]])"
      ]
     },
     "execution_count": 69,
     "metadata": {},
     "output_type": "execute_result"
    }
   ],
   "source": [
    "import numpy as np\n",
    "es2b= np.random.randint(31, size=(2,5,5))\n",
    "np.random.seed(0)\n",
    "es2b"
   ]
  },
  {
   "cell_type": "code",
   "execution_count": 72,
   "metadata": {},
   "outputs": [
    {
     "name": "stdout",
     "output_type": "stream",
     "text": [
      "primo subarray modifocato:\n",
      " [[15 21  0]\n",
      " [ 3  7  9]]\n"
     ]
    }
   ],
   "source": [
    "#punto 1\n",
    "#selezionare il primo subarray, \n",
    "#da quello le prime 2 righe e le colonne dalla seconda alla quarta\n",
    "print(\"punto uno:\\n\", es2b[0,:2,1:4])"
   ]
  },
  {
   "cell_type": "code",
   "execution_count": 81,
   "metadata": {},
   "outputs": [
    {
     "name": "stdout",
     "output_type": "stream",
     "text": [
      "es2bprova:\n",
      " [[[12 15]\n",
      "  [27  3]]\n",
      "\n",
      " [[17  5]\n",
      "  [ 9 20]]]\n",
      "inverto righe e colonne:\n",
      " [[[ 3 27]\n",
      "  [15 12]]\n",
      "\n",
      " [[20  9]\n",
      "  [ 5 17]]]\n"
     ]
    }
   ],
   "source": [
    "#punto 2\n",
    "#selezionare da entrambi i subarray le prime due righe e prime due \n",
    "#colonne e invertire righe e colonne\n",
    "print(\"es2bprova:\\n\", es2b[:,:2,:2])\n",
    "print(\"inverto righe e colonne:\\n\", es2bprova[:,::-1,::-1])"
   ]
  },
  {
   "cell_type": "code",
   "execution_count": null,
   "metadata": {},
   "outputs": [],
   "source": []
  }
 ],
 "metadata": {
  "kernelspec": {
   "display_name": "Python 3",
   "language": "python",
   "name": "python3"
  },
  "language_info": {
   "codemirror_mode": {
    "name": "ipython",
    "version": 3
   },
   "file_extension": ".py",
   "mimetype": "text/x-python",
   "name": "python",
   "nbconvert_exporter": "python",
   "pygments_lexer": "ipython3",
   "version": "3.8.3"
  }
 },
 "nbformat": 4,
 "nbformat_minor": 4
}
