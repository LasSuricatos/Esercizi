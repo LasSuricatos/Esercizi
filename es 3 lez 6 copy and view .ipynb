{
 "cells": [
  {
   "cell_type": "code",
   "execution_count": 4,
   "metadata": {},
   "outputs": [],
   "source": [
    "import numpy as np"
   ]
  },
  {
   "cell_type": "code",
   "execution_count": 5,
   "metadata": {},
   "outputs": [
    {
     "data": {
      "text/plain": [
       "array([[ 2,  0,  7],\n",
       "       [14, 10,  8],\n",
       "       [ 3, 10, 12]])"
      ]
     },
     "execution_count": 5,
     "metadata": {},
     "output_type": "execute_result"
    }
   ],
   "source": [
    "es3=np.random.randint(21, size=(3,3))\n",
    "np.random.seed(0)\n",
    "es3"
   ]
  },
  {
   "cell_type": "markdown",
   "metadata": {},
   "source": [
    "### COME VISTA e COME COPIA"
   ]
  },
  {
   "cell_type": "code",
   "execution_count": 6,
   "metadata": {},
   "outputs": [
    {
     "name": "stdout",
     "output_type": "stream",
     "text": [
      "array iniziale:\n",
      " [[ 2  0  7]\n",
      " [14 10  8]\n",
      " [ 3 10 12]]\n"
     ]
    }
   ],
   "source": [
    "#punto 1\n",
    "print(\"array iniziale:\\n\", es3)"
   ]
  },
  {
   "cell_type": "code",
   "execution_count": 8,
   "metadata": {},
   "outputs": [
    {
     "name": "stdout",
     "output_type": "stream",
     "text": [
      "il subarray estratto è il seguente:\n",
      " [14 10  8]\n"
     ]
    }
   ],
   "source": [
    "#punto 2 estrarre il subarray formato dalla seconda riga (es3-sub)\n",
    "#come vista e visualizzarlo\n",
    "es3_sub=es3[1,:]\n",
    "print(\"il subarray estratto è il seguente:\\n\", es3_sub)"
   ]
  },
  {
   "cell_type": "code",
   "execution_count": 11,
   "metadata": {},
   "outputs": [
    {
     "name": "stdout",
     "output_type": "stream",
     "text": [
      "seconda colonna di es3 dopo la moltiplicazione:\n",
      " [  0 270 270]\n"
     ]
    }
   ],
   "source": [
    "#punto 3\n",
    "#moltiplicare per 3 tutti gli elementi della seconda colonna di es3\n",
    "es3[:,1]=es3[:,1]*3\n",
    "print(\"seconda colonna di es3 dopo la moltiplicazione:\\n\", es3[:,1])"
   ]
  },
  {
   "cell_type": "code",
   "execution_count": 14,
   "metadata": {},
   "outputs": [
    {
     "name": "stdout",
     "output_type": "stream",
     "text": [
      "visualizzo es3_sub:\n",
      " [ 14 270   8]\n"
     ]
    }
   ],
   "source": [
    "#punto 4 vedo se nel subarray estratto (es3_sub) è cambiato qualcosa\n",
    "#a seguito della modifica della matrice originale es3\n",
    "print(\"visualizzo es3_sub:\\n\", es3_sub)\n",
    "#possiamo notare che il secondo valore è cambiato, questo a dimostrazione\n",
    "#che con view, una volta estratto un subarray, esso verrà influenzato da \n",
    "#tutte le eventuali modifiche fatte all'array iniziale"
   ]
  },
  {
   "cell_type": "code",
   "execution_count": 17,
   "metadata": {},
   "outputs": [
    {
     "name": "stdout",
     "output_type": "stream",
     "text": [
      "array di partenza:\n",
      " [[  2   0   7]\n",
      " [ 14 270   8]\n",
      " [  3 270  12]]\n"
     ]
    }
   ],
   "source": [
    "print(\"array di partenza:\\n\", es3)"
   ]
  },
  {
   "cell_type": "code",
   "execution_count": 24,
   "metadata": {},
   "outputs": [
    {
     "name": "stdout",
     "output_type": "stream",
     "text": [
      "subarray come copia:\n",
      " [ 7  8 12]\n"
     ]
    }
   ],
   "source": [
    "#punto 5\n",
    "#estrarre il subarray formato dalla terza colonna di es3 come copia \n",
    "#(es3_sub_copy)\n",
    "es3_sub_copy=es3[:,2].copy()\n",
    "print(\"subarray come copia:\\n\", es3_sub_copy)"
   ]
  },
  {
   "cell_type": "code",
   "execution_count": 21,
   "metadata": {
    "scrolled": true
   },
   "outputs": [
    {
     "name": "stdout",
     "output_type": "stream",
     "text": [
      "modifiche all'array es3_sub_copy:\n",
      " [17 18 22]\n"
     ]
    }
   ],
   "source": [
    "#punto 6\n",
    "#sommare 10 a tutti gli elementi di es3-sub-copy e visualizzare\n",
    "es3_sub_copy= es3_sub_copy+10\n",
    "print(\"modifiche all'array es3_sub_copy:\\n\", es3_sub_copy)"
   ]
  },
  {
   "cell_type": "code",
   "execution_count": 25,
   "metadata": {},
   "outputs": [
    {
     "data": {
      "text/plain": [
       "array([[  2,   0,   7],\n",
       "       [ 14, 270,   8],\n",
       "       [  3, 270,  12]])"
      ]
     },
     "execution_count": 25,
     "metadata": {},
     "output_type": "execute_result"
    }
   ],
   "source": [
    "#punto 7\n",
    "#visualizzo es3 per vedere se contiene la modifica\n",
    "es3\n",
    "#non c'è la modifica, in quanto i valori della terza colonna sono \n",
    "#rimasti 7,8,12 e NON quelli modificati; questo dimostra che è stata \n",
    "#modificata solo la copia e non l'array iniziale"
   ]
  },
  {
   "cell_type": "markdown",
   "metadata": {},
   "source": []
  }
 ],
 "metadata": {
  "kernelspec": {
   "display_name": "Python 3",
   "language": "python",
   "name": "python3"
  },
  "language_info": {
   "codemirror_mode": {
    "name": "ipython",
    "version": 3
   },
   "file_extension": ".py",
   "mimetype": "text/x-python",
   "name": "python",
   "nbconvert_exporter": "python",
   "pygments_lexer": "ipython3",
   "version": "3.8.3"
  }
 },
 "nbformat": 4,
 "nbformat_minor": 4
}
