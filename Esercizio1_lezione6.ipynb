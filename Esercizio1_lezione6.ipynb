{
 "cells": [
  {
   "cell_type": "markdown",
   "metadata": {},
   "source": [
    "#### Esercizio 1 della lezione del 8/10/2020\n",
    "Cambiare l’array creandone uno sempre di 10 valori ma che parta da 5 fino a 15 v"
   ]
  },
  {
   "cell_type": "code",
   "execution_count": 12,
   "metadata": {},
   "outputs": [
    {
     "name": "stdout",
     "output_type": "stream",
     "text": [
      "Array di partenza:  [ 5  6  7  8  9 10 11 12 13 14]\n",
      "\n",
      "Seleziono i primi sei valori:  [ 5  6  7  8  9 10]\n",
      "\n",
      "Seleziono gli elementi dopo l’indice 3:  [ 9 10 11 12 13 14]\n",
      "\n",
      "Seleziono gli elementi dopo il terzo elemento:  [ 8  9 10 11 12 13 14]\n",
      "\n",
      "Seleziono un subarray con valori 8,9,10,11,12:  [ 8  9 10 11 12]\n",
      "\n",
      "Seleziono un elemento ogni tre,partendo dal primo:  [ 5  8 11 14]\n",
      "\n",
      "Seleziono un elemento ogni tre partendo dal terzo elemento:  [ 7 10 13]\n"
     ]
    }
   ],
   "source": [
    "import numpy as np\n",
    "es1=np.arange(5,15)\n",
    "print(\"Array di partenza: \",es1)\n",
    "#Selezionare i primi sei valori, gli elementi dopo l’indice 3, elementi dopo il terzo elemento\n",
    "#subarray con valori 8,9,10,11,12, un elemento ogni tre, partendo dal primo ,un elemento ogni tre partendo dal terzo elemento\n",
    "print(\"\\nSeleziono i primi sei valori: \",es1[:6])\n",
    "print(\"\\nSeleziono gli elementi dopo l’indice 3: \",es1[4:])\n",
    "print(\"\\nSeleziono gli elementi dopo il terzo elemento: \", es1[3:])\n",
    "print(\"\\nSeleziono un subarray con valori 8,9,10,11,12: \",es1[3:8])\n",
    "print(\"\\nSeleziono un elemento ogni tre,partendo dal primo: \",es1[::3])\n",
    "print(\"\\nSeleziono un elemento ogni tre partendo dal terzo elemento: \",es1[2::3])"
   ]
  },
  {
   "cell_type": "code",
   "execution_count": null,
   "metadata": {},
   "outputs": [],
   "source": []
  }
 ],
 "metadata": {
  "kernelspec": {
   "display_name": "Python 3",
   "language": "python",
   "name": "python3"
  },
  "language_info": {
   "codemirror_mode": {
    "name": "ipython",
    "version": 3
   },
   "file_extension": ".py",
   "mimetype": "text/x-python",
   "name": "python",
   "nbconvert_exporter": "python",
   "pygments_lexer": "ipython3",
   "version": "3.8.3"
  }
 },
 "nbformat": 4,
 "nbformat_minor": 4
}
