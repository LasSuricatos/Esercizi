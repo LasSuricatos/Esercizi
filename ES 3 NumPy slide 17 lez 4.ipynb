{
 "cells": [
  {
   "cell_type": "code",
   "execution_count": 3,
   "metadata": {},
   "outputs": [],
   "source": [
    "import numpy as np\n",
    "np.random.seed(0)"
   ]
  },
  {
   "cell_type": "code",
   "execution_count": 62,
   "metadata": {},
   "outputs": [
    {
     "name": "stdout",
     "output_type": "stream",
     "text": [
      "ARRAY INIZIALE: \n",
      " [[6 5 8 2 3]\n",
      " [7 5 3 4 5]\n",
      " [3 3 7 7 3]]\n"
     ]
    }
   ],
   "source": [
    "#Creare un array es1 di valori casuali interi (randint) \n",
    "#di dimensione 3x5,con valore massimo (incluso) uguale a 8. \n",
    "#Visualizzare es1\n",
    "es1=np.random.randint(9,size=(3,5))\n",
    "print(\"ARRAY INIZIALE: \\n\", es1)"
   ]
  },
  {
   "cell_type": "code",
   "execution_count": 64,
   "metadata": {},
   "outputs": [
    {
     "name": "stdout",
     "output_type": "stream",
     "text": [
      "POSIZIONE DEL PRIMO CINQUE\n",
      "posizione come indice: 5\n",
      "posizione con forma negativa: 5\n"
     ]
    }
   ],
   "source": [
    "#Selezionare gli elementi che hanno valore 5 (5 è un esempio, \n",
    "#ovviamente potete scegliere un valore diverso), prima utilizzando \n",
    "#la posizione come indice, poi usando la forma negativa dalla \n",
    "#fine dell’array (vedere esempi)\n",
    "print(\"POSIZIONE DEL PRIMO CINQUE\")\n",
    "print(\"posizione come indice:\", es1[0,1])\n",
    "print(\"posizione con forma negativa:\", es1[0,-4])"
   ]
  },
  {
   "cell_type": "code",
   "execution_count": 66,
   "metadata": {},
   "outputs": [
    {
     "name": "stdout",
     "output_type": "stream",
     "text": [
      "POSIZIONE DEL SECONDO CINQUE\n",
      "posizione come indice: 5\n",
      "posizione con forma negativa: 5\n"
     ]
    }
   ],
   "source": [
    "print(\"POSIZIONE DEL SECONDO CINQUE\")\n",
    "print(\"posizione come indice:\", es1[1,1])\n",
    "print(\"posizione con forma negativa:\", es1[1,-4])"
   ]
  },
  {
   "cell_type": "code",
   "execution_count": 67,
   "metadata": {},
   "outputs": [
    {
     "name": "stdout",
     "output_type": "stream",
     "text": [
      "SELEZIONARE I SEGUENTI ELEMENTI\n",
      "primo elemento della seconda riga: 7\n",
      "il quinto elemento della prima riga: 3\n",
      "il secondo elemento della seconda colonna: 5\n",
      "il terzo elemento della terza colonna: 7\n"
     ]
    }
   ],
   "source": [
    "#Selezionare il primo elemento della seconda riga, \n",
    "#il quinto elemento della prima riga, \n",
    "#il secondo elemento della seconda colonna, \n",
    "#il quarto elemento della terza colonna\n",
    "print(\"SELEZIONARE I SEGUENTI ELEMENTI\")\n",
    "print(\"primo elemento della seconda riga:\", es1[1,0])\n",
    "print(\"il quinto elemento della prima riga:\", es1[0,4])\n",
    "print(\"il secondo elemento della seconda colonna:\", es1[1,1])\n",
    "print(\"il terzo elemento della terza colonna:\", es1[2,2])"
   ]
  },
  {
   "cell_type": "code",
   "execution_count": 68,
   "metadata": {},
   "outputs": [
    {
     "name": "stdout",
     "output_type": "stream",
     "text": [
      "MATRICE MODIFICATA: \n",
      " [[16  5  8  2  3]\n",
      " [ 7  5  3  4  5]\n",
      " [23  3  2  7  3]]\n"
     ]
    }
   ],
   "source": [
    "#Sommare 10 all’elemento es1[0,0],\n",
    "#sottrarre 5 all’elemento es1[3,2],\n",
    "#sommare l’elemento es1[0,0] all’elemento es1[1,0] \n",
    "#e il risultato metterlo in es1[2,0] \n",
    "#(non usare i valori, usare i riferimenti alle posizioni dell’array)\n",
    "es1[0,0]= es1[0,0]+10\n",
    "es1[2,2]= es1[2,2]-5\n",
    "es1[2,0]= es1[0,0]+es1[1,0]\n",
    "print(\"MATRICE MODIFICATA: \\n\",es1)"
   ]
  },
  {
   "cell_type": "code",
   "execution_count": null,
   "metadata": {},
   "outputs": [],
   "source": []
  },
  {
   "cell_type": "code",
   "execution_count": null,
   "metadata": {},
   "outputs": [],
   "source": []
  }
 ],
 "metadata": {
  "kernelspec": {
   "display_name": "Python 3",
   "language": "python",
   "name": "python3"
  },
  "language_info": {
   "codemirror_mode": {
    "name": "ipython",
    "version": 3
   },
   "file_extension": ".py",
   "mimetype": "text/x-python",
   "name": "python",
   "nbconvert_exporter": "python",
   "pygments_lexer": "ipython3",
   "version": "3.8.3"
  }
 },
 "nbformat": 4,
 "nbformat_minor": 4
}
