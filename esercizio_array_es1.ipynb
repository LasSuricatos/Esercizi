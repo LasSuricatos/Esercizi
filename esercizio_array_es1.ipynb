{
 "cells": [
  {
   "cell_type": "code",
   "execution_count": null,
   "metadata": {},
   "outputs": [],
   "source": []
  },
  {
   "cell_type": "code",
   "execution_count": 59,
   "metadata": {},
   "outputs": [
    {
     "name": "stdout",
     "output_type": "stream",
     "text": [
      "MATRICE: \n",
      " [[5 0 3 3 7]\n",
      " [3 5 2 4 7]\n",
      " [6 8 8 1 6]]\n",
      "\n",
      "\n",
      "PRIMO NUMERO UGUALE A 5\n",
      "elemento con posizione come indice:  5\n",
      "elemento con forma negativa:  5\n",
      "SECONDO NUMERO UGUALE A 5\n",
      "elemento con posizione come indice:  5\n",
      "elemento con forma negativa:  5\n",
      " \n",
      "\n",
      "SELEZIONE ELEMENTI\n",
      "primo elemento della seconda riga:  3\n",
      "quinto elemento della prima riga:  7\n",
      "secondo elemento della seconda colonna:  5\n",
      "terzo elemento della terza colonna:  8\n",
      "\n",
      "\n",
      "NUOVA MATRICE: \n",
      " [[15  0  3  3  7]\n",
      " [ 3  5  2  4  7]\n",
      " [18  8  3  1  6]]\n"
     ]
    }
   ],
   "source": [
    "import numpy as np\n",
    "np.random.seed(0) \n",
    "#Creare un array es1 di valori casuali interi (randint) di dimensione 3x5, con valore massimo (incluso) uguale a 8. \n",
    "#Visualizzare es1\n",
    "es1 = np.random.randint(9, size=(3,5))  \n",
    "print(\"MATRICE: \\n\" ,es1)\n",
    "print(\"\\n\")\n",
    "#selezionare gli elementi che hanno valore 5 (5 è un esempio, ovviamente potete scegliere un valore diverso), \n",
    "#prima utilizzando la posizione come indice, poi usando la forma negativa dalla fine dell’array (vedere esempi)\n",
    "print(\"PRIMO NUMERO UGUALE A 5\")\n",
    "print(\"elemento con posizione come indice: \" ,es1[0,0]) \n",
    "print(\"elemento con forma negativa: \", es1[0,-5])\n",
    "print(\"SECONDO NUMERO UGUALE A 5\")\n",
    "print(\"elemento con posizione come indice: \" ,es1[1,1]) \n",
    "print(\"elemento con forma negativa: \", es1[1,-4])\n",
    "print(\" \\n\")\n",
    "#Selezionare il primo elemento della seconda riga, il quinto elemento della prima riga,\n",
    "#il secondo elemento della seconda colonna e il quarto elemento della terza colonna\n",
    "print(\"SELEZIONE ELEMENTI\")\n",
    "print(\"primo elemento della seconda riga: \", es1[1,0])\n",
    "print(\"quinto elemento della prima riga: \", es1[0,4])\n",
    "print(\"secondo elemento della seconda colonna: \", es1[1,1])\n",
    "print(\"terzo elemento della terza colonna: \", es1[2,2])\n",
    "print(\"\\n\")\n",
    "#Sommare 10 all’elemento es1[0,0], sottrarre 5 all’elemento es1[3,2],\n",
    "#sommare l’elemento es1[0,0] all’elemento es1[1,0] e il risultato metterlo in es1[2,0]\n",
    "#(non usare i valori, usare i riferimenti alle posizioni dell’array)\n",
    "es1[0,0] = es1[0,0]+10\n",
    "es1[2,2] = es1[2,2]-5\n",
    "es1[2,0]= es1[0,0]+es1[1,0]\n",
    "print(\"NUOVA MATRICE: \\n\", es1)\n",
    "\n",
    "\n",
    "\n",
    "\n"
   ]
  },
  {
   "cell_type": "code",
   "execution_count": null,
   "metadata": {},
   "outputs": [],
   "source": []
  },
  {
   "cell_type": "code",
   "execution_count": null,
   "metadata": {},
   "outputs": [],
   "source": []
  }
 ],
 "metadata": {
  "kernelspec": {
   "display_name": "Python 3",
   "language": "python",
   "name": "python3"
  },
  "language_info": {
   "codemirror_mode": {
    "name": "ipython",
    "version": 3
   },
   "file_extension": ".py",
   "mimetype": "text/x-python",
   "name": "python",
   "nbconvert_exporter": "python",
   "pygments_lexer": "ipython3",
   "version": "3.8.3"
  }
 },
 "nbformat": 4,
 "nbformat_minor": 4
}
