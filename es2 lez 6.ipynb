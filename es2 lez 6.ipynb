{
 "cells": [
  {
   "cell_type": "code",
   "execution_count": 4,
   "metadata": {},
   "outputs": [
    {
     "data": {
      "text/plain": [
       "array([[ 8, 14,  5, 15,  2,  6],\n",
       "       [11,  8,  9, 12,  1,  0],\n",
       "       [ 5, 15,  6,  3,  3, 13],\n",
       "       [ 8,  7,  1, 14, 13,  0]])"
      ]
     },
     "execution_count": 4,
     "metadata": {},
     "output_type": "execute_result"
    }
   ],
   "source": [
    "#Esercizio 2 08/10\n",
    "#Creare un array es2a di valori casuali interi (randint) di dimensione 4x6, con valore massimo (incluso) uguale a 15\n",
    "import numpy as np\n",
    "es2a=np.random.randint(16, size=(4,6))\n",
    "np.random.seed(0)\n",
    "es2a"
   ]
  },
  {
   "cell_type": "raw",
   "metadata": {},
   "source": []
  },
  {
   "cell_type": "raw",
   "metadata": {},
   "source": []
  },
  {
   "cell_type": "code",
   "execution_count": 8,
   "metadata": {},
   "outputs": [
    {
     "name": "stdout",
     "output_type": "stream",
     "text": [
      "seleziono prime tre righe e prime tre colonne:\n",
      " [[ 8 14  5]\n",
      " [11  8  9]\n",
      " [ 5 15  6]]\n"
     ]
    }
   ],
   "source": [
    "#selezionare le prime tre righe e le prime tre colonne\n",
    "print(\"seleziono prime tre righe e prime tre colonne:\\n\",es2a[:3,:3])"
   ]
  },
  {
   "cell_type": "code",
   "execution_count": 10,
   "metadata": {},
   "outputs": [
    {
     "name": "stdout",
     "output_type": "stream",
     "text": [
      "seconda e terza riga e quarta, quinta e sesta colonna:\n",
      " [[12  1  0]\n",
      " [ 3  3 13]]\n"
     ]
    }
   ],
   "source": [
    "#selezionare seconda e terza riga e quarta quinta e sensta colonna\n",
    "print(\"seconda e terza riga e quarta, quinta e sesta colonna:\\n\",es2a[1:3,3:])"
   ]
  },
  {
   "cell_type": "code",
   "execution_count": 12,
   "metadata": {},
   "outputs": [
    {
     "name": "stdout",
     "output_type": "stream",
     "text": [
      "elementi dopo il terzo elemento:\n",
      " [ 6  3  3 13]\n"
     ]
    }
   ],
   "source": [
    "#selezionare elementi dopo il terzo elemento\n",
    "print(\"elementi dopo il terzo elemento:\\n\",es2a[2,2:])"
   ]
  },
  {
   "cell_type": "code",
   "execution_count": 14,
   "metadata": {},
   "outputs": [
    {
     "name": "stdout",
     "output_type": "stream",
     "text": [
      "invertire ordine solo righe:\n",
      " [[ 8  7  1 14 13  0]\n",
      " [ 5 15  6  3  3 13]\n",
      " [11  8  9 12  1  0]\n",
      " [ 8 14  5 15  2  6]]\n",
      "invertire ordine solo colonne:\n",
      " [[ 6  2 15  5 14  8]\n",
      " [ 0  1 12  9  8 11]\n",
      " [13  3  3  6 15  5]\n",
      " [ 0 13 14  1  7  8]]\n"
     ]
    }
   ],
   "source": [
    "#invertire ordine sole righe e sole colonne\n",
    "print(\"invertire ordine solo righe:\\n\",es2a[::-1])\n",
    "print(\"invertire ordine solo colonne:\\n\",es2a[:,::-1])"
   ]
  },
  {
   "cell_type": "code",
   "execution_count": 16,
   "metadata": {},
   "outputs": [
    {
     "data": {
      "text/plain": [
       "array([[[12, 15, 21,  0,  3],\n",
       "        [27,  3,  7,  9, 19],\n",
       "        [21, 18,  4, 23,  6],\n",
       "        [24, 24, 12, 26,  1],\n",
       "        [ 6,  7, 23, 14, 24]],\n",
       "\n",
       "       [[17,  5, 25, 13,  8],\n",
       "        [ 9, 20, 19, 16, 19],\n",
       "        [ 5, 30, 15, 15,  0],\n",
       "        [18,  3, 24, 17, 19],\n",
       "        [29, 19, 19, 14,  7]]])"
      ]
     },
     "execution_count": 16,
     "metadata": {},
     "output_type": "execute_result"
    }
   ],
   "source": [
    "#Creare un array es2b di valori casuali interi (randint) di dimensione 5x5x2,con valore massimo (incluso) uguale a 30\n",
    "import numpy as np\n",
    "es2b= np.random.randint(31,size=(2,5,5))\n",
    "np.random.seed(0)\n",
    "es2b"
   ]
  },
  {
   "cell_type": "code",
   "execution_count": 18,
   "metadata": {},
   "outputs": [
    {
     "name": "stdout",
     "output_type": "stream",
     "text": [
      "primo subarray:\n",
      " [[15 21  0]\n",
      " [ 3  7  9]]\n"
     ]
    }
   ],
   "source": [
    "#selezionare il primo subarray, da quello le prime 2 righe e le colonne dalla seconda alla quarta\n",
    "print(\"primo subarray:\\n\",es2b[0,:2,1:4])\n"
   ]
  },
  {
   "cell_type": "code",
   "execution_count": 19,
   "metadata": {},
   "outputs": [
    {
     "name": "stdout",
     "output_type": "stream",
     "text": [
      "due subarray:\n",
      " [[[12 15]\n",
      "  [27  3]]\n",
      "\n",
      " [[17  5]\n",
      "  [ 9 20]]]\n",
      "inverto righe e colonne:\n",
      " [[[24 14 23  7  6]\n",
      "  [ 1 26 12 24 24]\n",
      "  [ 6 23  4 18 21]\n",
      "  [19  9  7  3 27]\n",
      "  [ 3  0 21 15 12]]\n",
      "\n",
      " [[ 7 14 19 19 29]\n",
      "  [19 17 24  3 18]\n",
      "  [ 0 15 15 30  5]\n",
      "  [19 16 19 20  9]\n",
      "  [ 8 13 25  5 17]]]\n"
     ]
    }
   ],
   "source": [
    "#selezionare da entrambi i subarray le prime due righe e prime due colonne e invertire righe e colonne\n",
    "print(\"due subarray:\\n\",es2b[:,:2,:2])\n",
    "print(\"inverto righe e colonne:\\n\",es2b[:,::-1,::-1])"
   ]
  },
  {
   "cell_type": "code",
   "execution_count": null,
   "metadata": {},
   "outputs": [],
   "source": []
  }
 ],
 "metadata": {
  "kernelspec": {
   "display_name": "Python 3",
   "language": "python",
   "name": "python3"
  },
  "language_info": {
   "codemirror_mode": {
    "name": "ipython",
    "version": 3
   },
   "file_extension": ".py",
   "mimetype": "text/x-python",
   "name": "python",
   "nbconvert_exporter": "python",
   "pygments_lexer": "ipython3",
   "version": "3.8.3"
  }
 },
 "nbformat": 4,
 "nbformat_minor": 4
}
