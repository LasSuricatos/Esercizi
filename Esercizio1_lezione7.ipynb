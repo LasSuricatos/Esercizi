{
 "cells": [
  {
   "cell_type": "markdown",
   "metadata": {},
   "source": [
    "#### Esercizio: variante dell’altezza dei presidenti US"
   ]
  },
  {
   "cell_type": "code",
   "execution_count": 2,
   "metadata": {},
   "outputs": [
    {
     "name": "stdout",
     "output_type": "stream",
     "text": [
      "DATAFRAME UTILIZZATO \n",
      "     order                    name  height(cm)\n",
      "0       1       George Washington         189\n",
      "1       2              John Adams         170\n",
      "2       3        Thomas Jefferson         189\n",
      "3       4           James Madison         163\n",
      "4       5            James Monroe         183\n",
      "5       6       John Quincy Adams         171\n",
      "6       7          Andrew Jackson         185\n",
      "7       8        Martin Van Buren         168\n",
      "8       9  William Henry Harrison         173\n",
      "9      10              John Tyler         183\n",
      "10     11           James K. Polk         173\n",
      "11     12          Zachary Taylor         173\n",
      "12     13        Millard Fillmore         175\n",
      "13     14         Franklin Pierce         178\n",
      "14     15          James Buchanan         183\n",
      "15     16         Abraham Lincoln         193\n",
      "16     17          Andrew Johnson         178\n",
      "17     18        Ulysses S. Grant         173\n",
      "18     19     Rutherford B. Hayes         174\n",
      "19     20       James A. Garfield         183\n",
      "20     21       Chester A. Arthur         183\n",
      "21     23       Benjamin Harrison         168\n",
      "22     25        William McKinley         170\n",
      "23     26      Theodore Roosevelt         178\n",
      "24     27     William Howard Taft         182\n",
      "25     28          Woodrow Wilson         180\n",
      "26     29       Warren G. Harding         183\n",
      "27     30         Calvin Coolidge         178\n",
      "28     31          Herbert Hoover         182\n",
      "29     32   Franklin D. Roosevelt         188\n",
      "30     33         Harry S. Truman         175\n",
      "31     34    Dwight D. Eisenhower         179\n",
      "32     35         John F. Kennedy         183\n",
      "33     36       Lyndon B. Johnson         193\n",
      "34     37           Richard Nixon         182\n",
      "35     38             Gerald Ford         183\n",
      "36     39            Jimmy Carter         177\n",
      "37     40           Ronald Reagan         185\n",
      "38     41       George H. W. Bush         188\n",
      "39     42            Bill Clinton         188\n",
      "40     43          George W. Bush         182\n",
      "41     44            Barack Obama         185\n"
     ]
    }
   ],
   "source": [
    "import numpy as np\n",
    "import pandas as pd\n",
    "data=pd.read_csv(r\"C:\\Users\\Laura\\Desktop\\PythonDataScienceHandbook-master\\notebooks\\data\\president_heights.csv\")\n",
    "print(\"DATAFRAME UTILIZZATO \\n\",data)\n"
   ]
  },
  {
   "cell_type": "code",
   "execution_count": 3,
   "metadata": {},
   "outputs": [
    {
     "name": "stdout",
     "output_type": "stream",
     "text": [
      "Prime 10 righe :\n",
      "    order                    name  height(cm)\n",
      "0      1       George Washington         189\n",
      "1      2              John Adams         170\n",
      "2      3        Thomas Jefferson         189\n",
      "3      4           James Madison         163\n",
      "4      5            James Monroe         183\n",
      "5      6       John Quincy Adams         171\n",
      "6      7          Andrew Jackson         185\n",
      "7      8        Martin Van Buren         168\n",
      "8      9  William Henry Harrison         173\n",
      "9     10              John Tyler         183 \n",
      "\n",
      "Ultime 10 righe :\n",
      "     order                  name  height(cm)\n",
      "30     33       Harry S. Truman         175\n",
      "31     34  Dwight D. Eisenhower         179\n",
      "32     35       John F. Kennedy         183\n",
      "33     36     Lyndon B. Johnson         193\n",
      "34     37         Richard Nixon         182\n",
      "35     38           Gerald Ford         183\n",
      "36     39          Jimmy Carter         177\n",
      "37     40         Ronald Reagan         185\n",
      "38     41     George H. W. Bush         188\n",
      "39     42          Bill Clinton         188\n",
      "\n",
      "Altezza media delle prime 10 righe: 177.4\n",
      "\n",
      "Altezza media delle ultime 10 righe: 183.3\n"
     ]
    }
   ],
   "source": [
    "#Estrarre i primi 10 e gli ultimi 10 presidenti e calcolare l’altezza media di ogni sottogruppo\n",
    "top_10=data.iloc[0:10]\n",
    "print(\"Prime 10 righe :\\n\",top_10,\"\\n\")\n",
    "last_10=data.iloc[30:40]\n",
    "print(\"Ultime 10 righe :\\n\",last_10 )\n",
    "#creo gli array con le altezze per poter calcolare l'altezza media dei sottogruppi\n",
    "top_10_height=np.array(top_10['height(cm)'])\n",
    "last_10_height=np.array(last_10['height(cm)'])\n",
    "print(\"\\nAltezza media delle prime 10 righe:\",top_10_height.mean())\n",
    "print(\"\\nAltezza media delle ultime 10 righe:\",last_10_height.mean())"
   ]
  },
  {
   "cell_type": "code",
   "execution_count": 4,
   "metadata": {},
   "outputs": [
    {
     "ename": "SyntaxError",
     "evalue": "closing parenthesis ')' does not match opening parenthesis '[' (<ipython-input-4-2845b42e85c9>, line 3)",
     "output_type": "error",
     "traceback": [
      "\u001b[1;36m  File \u001b[1;32m\"<ipython-input-4-2845b42e85c9>\"\u001b[1;36m, line \u001b[1;32m3\u001b[0m\n\u001b[1;33m    print(data.loc[(data['height(cm)'] >= 170) & (data['height(cm)'] <= 180))\u001b[0m\n\u001b[1;37m                                                                            ^\u001b[0m\n\u001b[1;31mSyntaxError\u001b[0m\u001b[1;31m:\u001b[0m closing parenthesis ')' does not match opening parenthesis '['\n"
     ]
    }
   ],
   "source": [
    "#Estrarre i presidenti di altezza compresa tra 170 e 180 cm.\n",
    "print(\"Presidenti di altezza compresa tra 170 e 180 cm:\\n\")\n",
    "print(data.loc[(data['height(cm)'] >= 170) & (data['height(cm)'] <= 180))\n"
   ]
  },
  {
   "cell_type": "code",
   "execution_count": 5,
   "metadata": {},
   "outputs": [
    {
     "name": "stdout",
     "output_type": "stream",
     "text": [
      "Presidenti che si chiamano George e sono più alti di 185 cm \n",
      "\n",
      "    order               name  height(cm)\n",
      "0       1  George Washington         189\n",
      "38     41  George H. W. Bush         188\n"
     ]
    }
   ],
   "source": [
    "#Estrarre i presidenti che si chiamano George e sono più alti di 185 cm.\n",
    "print(\"Presidenti che si chiamano George e sono più alti di 185 cm \\n\")\n",
    "print(data.loc[(data['height(cm)'] >= 185) & data['name'].str.match('George')])\n"
   ]
  },
  {
   "cell_type": "code",
   "execution_count": 7,
   "metadata": {},
   "outputs": [
    {
     "name": "stdout",
     "output_type": "stream",
     "text": [
      "Presidenti che si chiamano, come nome di battesimo, George, John,Arthur oppure James \n",
      "\n",
      "    order               name  height(cm)\n",
      "0       1  George Washington         189\n",
      "1       2         John Adams         170\n",
      "3       4      James Madison         163\n",
      "4       5       James Monroe         183\n",
      "5       6  John Quincy Adams         171\n",
      "9      10         John Tyler         183\n",
      "10     11      James K. Polk         173\n",
      "14     15     James Buchanan         183\n",
      "19     20  James A. Garfield         183\n",
      "32     35    John F. Kennedy         183\n",
      "38     41  George H. W. Bush         188\n",
      "40     43     George W. Bush         182\n"
     ]
    }
   ],
   "source": [
    "#Estrarre i presidenti che si chiamano, come nome di battesimo, George, John,Arthur oppure James\n",
    "print(\"Presidenti che si chiamano, come nome di battesimo, George, John,Arthur oppure James \\n\")\n",
    "print(data.loc[data['name'].str.match('George') |\n",
    "               data['name'].str.match('John') | \n",
    "               data['name'].str.match('James') |\n",
    "               data['name'].str.startswith('Arthur')])"
   ]
  },
  {
   "cell_type": "code",
   "execution_count": null,
   "metadata": {},
   "outputs": [],
   "source": []
  }
 ],
 "metadata": {
  "kernelspec": {
   "display_name": "Python 3",
   "language": "python",
   "name": "python3"
  },
  "language_info": {
   "codemirror_mode": {
    "name": "ipython",
    "version": 3
   },
   "file_extension": ".py",
   "mimetype": "text/x-python",
   "name": "python",
   "nbconvert_exporter": "python",
   "pygments_lexer": "ipython3",
   "version": "3.8.3"
  }
 },
 "nbformat": 4,
 "nbformat_minor": 4
}
