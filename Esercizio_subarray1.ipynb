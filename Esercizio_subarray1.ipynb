{
 "cells": [
  {
   "cell_type": "code",
   "execution_count": 10,
   "metadata": {},
   "outputs": [
    {
     "name": "stdout",
     "output_type": "stream",
     "text": [
      "la matrice originale è \n",
      " [[ 3  7 14]\n",
      " [10 10 18]\n",
      " [12 10 19]]\n",
      "\n",
      " Primo subarray: \n",
      " [10 10 18]\n",
      "\n",
      " I valori moltiplicati della seconda colonna della matrice sono:  [21 30 30]\n",
      "\n",
      " Visualizzo il primo subarray dopo le modifiche:  [10 30 18]\n",
      "\n",
      " Copia del subarray della terza colonna:  [14 18 19]\n",
      "\n",
      " Modifiche alla copia del subarray:  [24 28 29]\n",
      "\n",
      " Visualizzo la matrice iniziale: \n",
      " [[ 3 21 14]\n",
      " [10 30 18]\n",
      " [12 30 19]]\n"
     ]
    }
   ],
   "source": [
    "import numpy as np\n",
    "#Creare un array es3 di valori casuali interi (randint) di dimensione 3x3, con valore massimo (incluso) uguale a 20\n",
    "es3= np.random.randint(21,size=(3,3))\n",
    "print(\"la matrice originale è \\n\", es3)\n",
    "#estrarre il subarray formato dalla seconda riga (es3_sub) come vista e visualizzarlo\n",
    "sub1=es3[1,:]\n",
    "print(\"\\n Primo subarray: \\n\", sub1)\n",
    "#moltiplicare per 3 tutti gli elementi della seconda colonna di es3\n",
    "es3[:,1]=es3[:,1]*3\n",
    "print(\"\\n I valori moltiplicati della seconda colonna della matrice sono: \",es3[:,1])\n",
    "#visualizzare es3_sub. È cambiato rispetto a prima?\n",
    "print(\"\\n Visualizzo il primo subarray dopo le modifiche: \",sub1)\n",
    "#estrarre il subarray formato dalla terza colonna di es3 come copia (es3_sub_copy)\n",
    "es3_sub_copy=es3[:,2].copy()\n",
    "print(\"\\n Copia del subarray della terza colonna: \", es3_sub_copy)\n",
    "#sommare 10 a tutti gli elementi di es3_sub_copy e visualizzare\n",
    "es3_sub_copy=es3_sub_copy+10\n",
    "print(\"\\n Modifiche alla copia del subarray: \", es3_sub_copy)\n",
    "#visualizzare es3. Contiene la modifica del punto 6?\n",
    "print(\"\\n Visualizzo la matrice iniziale: \\n\", es3)\n"
   ]
  },
  {
   "cell_type": "markdown",
   "metadata": {},
   "source": [
    "La matrice iniziale non contiene le modifiche fatte su es3_sub_copy in quanto il subarray era una copia"
   ]
  },
  {
   "cell_type": "code",
   "execution_count": null,
   "metadata": {},
   "outputs": [],
   "source": []
  },
  {
   "cell_type": "code",
   "execution_count": null,
   "metadata": {},
   "outputs": [],
   "source": []
  }
 ],
 "metadata": {
  "kernelspec": {
   "display_name": "Python 3",
   "language": "python",
   "name": "python3"
  },
  "language_info": {
   "codemirror_mode": {
    "name": "ipython",
    "version": 3
   },
   "file_extension": ".py",
   "mimetype": "text/x-python",
   "name": "python",
   "nbconvert_exporter": "python",
   "pygments_lexer": "ipython3",
   "version": "3.8.3"
  }
 },
 "nbformat": 4,
 "nbformat_minor": 4
}
