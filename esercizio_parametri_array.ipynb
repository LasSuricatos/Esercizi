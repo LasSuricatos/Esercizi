{
 "cells": [
  {
   "cell_type": "code",
   "execution_count": 4,
   "metadata": {},
   "outputs": [
    {
     "name": "stdout",
     "output_type": "stream",
     "text": [
      "PARAMETRI ARRAY UNIDIMENSIONALE\n",
      "x1 ndim:  1\n",
      "x1 shape: (6,)\n",
      "x1 size:  6\n",
      "PARAMETRI ARRAY BIDIMENSIONALE\n",
      "x2 ndim:  2\n",
      "x2 shape: (3, 4)\n",
      "x2 size:  12\n",
      "PARAMETRI ARRAY TRIDIMENSIONALE\n",
      "x3 ndim:  3\n",
      "x3 shape: (3, 4, 5)\n",
      "x3 size:  60\n",
      "PARAMETRI ARRAY UNIDIMENSIONALE modificati\n",
      "x1 ndim:  2\n",
      "x1 shape: (4, 5)\n",
      "x1 size:  20\n"
     ]
    }
   ],
   "source": [
    "import numpy as np\n",
    "np.random.seed(0) \n",
    "x1 = np.random.randint(10, size=6)  # One-dimensional array\n",
    "x2 = np.random.randint(10, size=(3, 4))  # Two-dimensional array\n",
    "x3 = np.random.randint(10, size=(3, 4, 5))  # Three-dimensional array\n",
    "#Visualizzare i parametri ndim, shape e size anche degli array x1 e x2\n",
    "print(\"PARAMETRI ARRAY UNIDIMENSIONALE\")\n",
    "print(\"x1 ndim: \", x1.ndim)\n",
    "print(\"x1 shape:\", x1.shape)\n",
    "print(\"x1 size: \", x1.size)\n",
    "print(\"PARAMETRI ARRAY BIDIMENSIONALE\")\n",
    "print(\"x2 ndim: \", x2.ndim)\n",
    "print(\"x2 shape:\", x2.shape)\n",
    "print(\"x2 size: \", x2.size)\n",
    "print(\"PARAMETRI ARRAY TRIDIMENSIONALE\")\n",
    "print(\"x3 ndim: \", x3.ndim)\n",
    "print(\"x3 shape:\", x3.shape)\n",
    "print(\"x3 size: \", x3.size)\n",
    "#Modificare x1 in modo che ndim sia uguale a 2 e shape sia uguale a (4, 5) e visualizzare i valori di x1\n",
    "x1 = np.random.randint(2, size=(4,5))  # One-dimensional array\n",
    "print(\"PARAMETRI ARRAY UNIDIMENSIONALE modificati\")\n",
    "print(\"x1 ndim: \", x1.ndim)\n",
    "print(\"x1 shape:\", x1.shape)\n",
    "print(\"x1 size: \", x1.size) "
   ]
  },
  {
   "cell_type": "markdown",
   "metadata": {},
   "source": [
    "### Cosa indica il primo parametro di random.randint posto al valore 10?\n",
    "Il primo parametro indica il massimo intero che si può estrarre casualmente, ovvero se il parametro è 10 la funzione estrarrà numeri al di sotto del 10 fino ad un massimo di 9\n"
   ]
  },
  {
   "cell_type": "code",
   "execution_count": 10,
   "metadata": {},
   "outputs": [
    {
     "name": "stdout",
     "output_type": "stream",
     "text": [
      "[82 46 99 20 81 50]\n"
     ]
    }
   ],
   "source": [
    "#Cambiarlo e visualizzare i nuovi valori dell’array\n",
    "x1 = np.random.randint(100, size=6)\n",
    "print(x1)"
   ]
  },
  {
   "cell_type": "code",
   "execution_count": null,
   "metadata": {},
   "outputs": [],
   "source": []
  }
 ],
 "metadata": {
  "kernelspec": {
   "display_name": "Python 3",
   "language": "python",
   "name": "python3"
  },
  "language_info": {
   "codemirror_mode": {
    "name": "ipython",
    "version": 3
   },
   "file_extension": ".py",
   "mimetype": "text/x-python",
   "name": "python",
   "nbconvert_exporter": "python",
   "pygments_lexer": "ipython3",
   "version": "3.8.3"
  }
 },
 "nbformat": 4,
 "nbformat_minor": 4
}
