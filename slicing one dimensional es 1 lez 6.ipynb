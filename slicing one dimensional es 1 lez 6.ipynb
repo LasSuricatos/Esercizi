{
 "cells": [
  {
   "cell_type": "code",
   "execution_count": 1,
   "metadata": {},
   "outputs": [],
   "source": [
    "import numpy as np"
   ]
  },
  {
   "cell_type": "code",
   "execution_count": 10,
   "metadata": {},
   "outputs": [
    {
     "data": {
      "text/plain": [
       "array([ 5,  6,  7,  8,  9, 10, 11, 12, 13, 14])"
      ]
     },
     "execution_count": 10,
     "metadata": {},
     "output_type": "execute_result"
    }
   ],
   "source": [
    "# creare array di 10 valori ma che parta da 5 fino a 15\n",
    "es1= np.arange(5,15)\n",
    "es1"
   ]
  },
  {
   "cell_type": "code",
   "execution_count": 33,
   "metadata": {},
   "outputs": [
    {
     "name": "stdout",
     "output_type": "stream",
     "text": [
      "primi sei valori:\n",
      " [ 5  6  7  8  9 10]\n"
     ]
    }
   ],
   "source": [
    "#punto 1\n",
    "print(\"primi sei valori:\\n\", es1[:6])"
   ]
  },
  {
   "cell_type": "code",
   "execution_count": 18,
   "metadata": {},
   "outputs": [
    {
     "name": "stdout",
     "output_type": "stream",
     "text": [
      "elemento di indice 3:\n",
      " 8\n",
      "elementi dopo l’indice 3:\n",
      " [ 9 10 11 12 13 14]\n"
     ]
    }
   ],
   "source": [
    "#punto 2\n",
    "print(\"elemento di indice 3:\\n\", es1[3])\n",
    "print(\"elementi dopo l’indice 3:\\n\", es1[4:])"
   ]
  },
  {
   "cell_type": "code",
   "execution_count": 21,
   "metadata": {},
   "outputs": [
    {
     "name": "stdout",
     "output_type": "stream",
     "text": [
      "terzo elemento:\n",
      " 7\n",
      "elementi dopo il terzo elemento:\n",
      " [ 8  9 10 11 12 13 14]\n"
     ]
    }
   ],
   "source": [
    "#punto 3\n",
    "print(\"terzo elemento:\\n\", es1[2])\n",
    "print(\"elementi dopo il terzo elemento:\\n\", es1[3:])"
   ]
  },
  {
   "cell_type": "code",
   "execution_count": 34,
   "metadata": {},
   "outputs": [
    {
     "name": "stdout",
     "output_type": "stream",
     "text": [
      "subarray:\n",
      " [ 8  9 10 11 12]\n"
     ]
    }
   ],
   "source": [
    "#punto 4 (subarray con valori 8,9,10,11,12)\n",
    "print(\"subarray:\\n\", es1[3:8])"
   ]
  },
  {
   "cell_type": "code",
   "execution_count": 35,
   "metadata": {},
   "outputs": [
    {
     "name": "stdout",
     "output_type": "stream",
     "text": [
      "un elemento ogni tre, partendo dal primo:\n",
      " [ 5  8 11 14]\n"
     ]
    }
   ],
   "source": [
    "#punto 5 \n",
    "print(\"un elemento ogni tre, partendo dal primo:\\n\", es1[0::3])"
   ]
  },
  {
   "cell_type": "code",
   "execution_count": 36,
   "metadata": {},
   "outputs": [
    {
     "name": "stdout",
     "output_type": "stream",
     "text": [
      "un elemento ogni tre partendo dal terzo elemento:\n",
      " [ 7 10 13]\n"
     ]
    }
   ],
   "source": [
    "#punto 6\n",
    "print(\"un elemento ogni tre partendo dal terzo elemento:\\n\", es1[2::3])"
   ]
  },
  {
   "cell_type": "code",
   "execution_count": null,
   "metadata": {},
   "outputs": [],
   "source": []
  },
  {
   "cell_type": "code",
   "execution_count": null,
   "metadata": {},
   "outputs": [],
   "source": []
  }
 ],
 "metadata": {
  "kernelspec": {
   "display_name": "Python 3",
   "language": "python",
   "name": "python3"
  },
  "language_info": {
   "codemirror_mode": {
    "name": "ipython",
    "version": 3
   },
   "file_extension": ".py",
   "mimetype": "text/x-python",
   "name": "python",
   "nbconvert_exporter": "python",
   "pygments_lexer": "ipython3",
   "version": "3.8.3"
  }
 },
 "nbformat": 4,
 "nbformat_minor": 4
}
